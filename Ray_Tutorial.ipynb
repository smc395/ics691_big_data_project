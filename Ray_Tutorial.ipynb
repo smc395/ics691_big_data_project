{
  "nbformat": 4,
  "nbformat_minor": 0,
  "metadata": {
    "colab": {
      "provenance": [],
      "authorship_tag": "ABX9TyMov9UXUZoiV7wdal1frZxL",
      "include_colab_link": true
    },
    "kernelspec": {
      "name": "python3",
      "display_name": "Python 3"
    },
    "language_info": {
      "name": "python"
    },
    "gpuClass": "standard",
    "accelerator": "GPU",
    "widgets": {
      "application/vnd.jupyter.widget-state+json": {
        "4bf881ca80ad44de9318df2f3e8d77f3": {
          "model_module": "@jupyter-widgets/controls",
          "model_name": "VBoxModel",
          "model_module_version": "1.5.0",
          "state": {
            "_dom_classes": [],
            "_model_module": "@jupyter-widgets/controls",
            "_model_module_version": "1.5.0",
            "_model_name": "VBoxModel",
            "_view_count": null,
            "_view_module": "@jupyter-widgets/controls",
            "_view_module_version": "1.5.0",
            "_view_name": "VBoxView",
            "box_style": "",
            "children": [
              "IPY_MODEL_076125dfd39d4317ada4fa96cef5495c",
              "IPY_MODEL_9944e53ce6b8463db38396f4cb72c53a"
            ],
            "layout": "IPY_MODEL_71cb6969160d4dd089c05ec9442d0323"
          }
        },
        "076125dfd39d4317ada4fa96cef5495c": {
          "model_module": "@jupyter-widgets/controls",
          "model_name": "HTMLModel",
          "model_module_version": "1.5.0",
          "state": {
            "_dom_classes": [],
            "_model_module": "@jupyter-widgets/controls",
            "_model_module_version": "1.5.0",
            "_model_name": "HTMLModel",
            "_view_count": null,
            "_view_module": "@jupyter-widgets/controls",
            "_view_module_version": "1.5.0",
            "_view_name": "HTMLView",
            "description": "",
            "description_tooltip": null,
            "layout": "IPY_MODEL_ea3acfca2c5c4c78bddc72056bba02e2",
            "placeholder": "​",
            "style": "IPY_MODEL_a0bfb52fadb341f8b7bb35de2a946f4e",
            "value": "<h2>Dataset</h2>"
          }
        },
        "9944e53ce6b8463db38396f4cb72c53a": {
          "model_module": "@jupyter-widgets/controls",
          "model_name": "TabModel",
          "model_module_version": "1.5.0",
          "state": {
            "_dom_classes": [],
            "_model_module": "@jupyter-widgets/controls",
            "_model_module_version": "1.5.0",
            "_model_name": "TabModel",
            "_titles": {
              "0": "Metadata",
              "1": "Schema"
            },
            "_view_count": null,
            "_view_module": "@jupyter-widgets/controls",
            "_view_module_version": "1.5.0",
            "_view_name": "TabView",
            "box_style": "",
            "children": [
              "IPY_MODEL_d389cd843cda4d3a99e991456d5ce2e2",
              "IPY_MODEL_c61dc806445f4e2dbd93ea1bc20e38ef"
            ],
            "layout": "IPY_MODEL_3713089a17ba47c285d811116e02895c",
            "selected_index": 0
          }
        },
        "71cb6969160d4dd089c05ec9442d0323": {
          "model_module": "@jupyter-widgets/base",
          "model_name": "LayoutModel",
          "model_module_version": "1.2.0",
          "state": {
            "_model_module": "@jupyter-widgets/base",
            "_model_module_version": "1.2.0",
            "_model_name": "LayoutModel",
            "_view_count": null,
            "_view_module": "@jupyter-widgets/base",
            "_view_module_version": "1.2.0",
            "_view_name": "LayoutView",
            "align_content": null,
            "align_items": null,
            "align_self": null,
            "border": null,
            "bottom": null,
            "display": null,
            "flex": null,
            "flex_flow": null,
            "grid_area": null,
            "grid_auto_columns": null,
            "grid_auto_flow": null,
            "grid_auto_rows": null,
            "grid_column": null,
            "grid_gap": null,
            "grid_row": null,
            "grid_template_areas": null,
            "grid_template_columns": null,
            "grid_template_rows": null,
            "height": null,
            "justify_content": null,
            "justify_items": null,
            "left": null,
            "margin": null,
            "max_height": null,
            "max_width": null,
            "min_height": null,
            "min_width": null,
            "object_fit": null,
            "object_position": null,
            "order": null,
            "overflow": null,
            "overflow_x": null,
            "overflow_y": null,
            "padding": null,
            "right": null,
            "top": null,
            "visibility": null,
            "width": "100%"
          }
        },
        "ea3acfca2c5c4c78bddc72056bba02e2": {
          "model_module": "@jupyter-widgets/base",
          "model_name": "LayoutModel",
          "model_module_version": "1.2.0",
          "state": {
            "_model_module": "@jupyter-widgets/base",
            "_model_module_version": "1.2.0",
            "_model_name": "LayoutModel",
            "_view_count": null,
            "_view_module": "@jupyter-widgets/base",
            "_view_module_version": "1.2.0",
            "_view_name": "LayoutView",
            "align_content": null,
            "align_items": null,
            "align_self": null,
            "border": null,
            "bottom": null,
            "display": null,
            "flex": null,
            "flex_flow": null,
            "grid_area": null,
            "grid_auto_columns": null,
            "grid_auto_flow": null,
            "grid_auto_rows": null,
            "grid_column": null,
            "grid_gap": null,
            "grid_row": null,
            "grid_template_areas": null,
            "grid_template_columns": null,
            "grid_template_rows": null,
            "height": null,
            "justify_content": null,
            "justify_items": null,
            "left": null,
            "margin": null,
            "max_height": null,
            "max_width": null,
            "min_height": null,
            "min_width": null,
            "object_fit": null,
            "object_position": null,
            "order": null,
            "overflow": null,
            "overflow_x": null,
            "overflow_y": null,
            "padding": null,
            "right": null,
            "top": null,
            "visibility": null,
            "width": null
          }
        },
        "a0bfb52fadb341f8b7bb35de2a946f4e": {
          "model_module": "@jupyter-widgets/controls",
          "model_name": "DescriptionStyleModel",
          "model_module_version": "1.5.0",
          "state": {
            "_model_module": "@jupyter-widgets/controls",
            "_model_module_version": "1.5.0",
            "_model_name": "DescriptionStyleModel",
            "_view_count": null,
            "_view_module": "@jupyter-widgets/base",
            "_view_module_version": "1.2.0",
            "_view_name": "StyleView",
            "description_width": ""
          }
        },
        "d389cd843cda4d3a99e991456d5ce2e2": {
          "model_module": "@jupyter-widgets/controls",
          "model_name": "HTMLModel",
          "model_module_version": "1.5.0",
          "state": {
            "_dom_classes": [],
            "_model_module": "@jupyter-widgets/controls",
            "_model_module_version": "1.5.0",
            "_model_name": "HTMLModel",
            "_view_count": null,
            "_view_module": "@jupyter-widgets/controls",
            "_view_module_version": "1.5.0",
            "_view_name": "HTMLView",
            "description": "",
            "description_tooltip": null,
            "layout": "IPY_MODEL_ce1af605f25c405abe59a3454227c5e6",
            "placeholder": "​",
            "style": "IPY_MODEL_ace060115ad04831939825259c0240c1",
            "value": "<div class=\"scrollableTable jp-RenderedHTMLCommon\">\n  <table>\n<thead>\n<tr><th>Field     </th><th style=\"text-align: right;\">  Value</th></tr>\n</thead>\n<tbody>\n<tr><td>num_blocks</td><td style=\"text-align: right;\">      5</td></tr>\n<tr><td>num_rows  </td><td style=\"text-align: right;\">     28</td></tr>\n</tbody>\n</table>\n</div>\n<style>\n.scrollableTable {\n  overflow-y: auto;\n  max-height: 300px;\n}\n.scrollableTable table {\n  width: 100%;\n}\n.scrollableTable table :is(th,td) {\n  text-align: left !important;\n}\n.scrollableTable th {\n  background: var(--jp-layout-color1);\n  position: sticky;\n  top: 0;\n}\n</style>\n"
          }
        },
        "c61dc806445f4e2dbd93ea1bc20e38ef": {
          "model_module": "@jupyter-widgets/controls",
          "model_name": "HTMLModel",
          "model_module_version": "1.5.0",
          "state": {
            "_dom_classes": [],
            "_model_module": "@jupyter-widgets/controls",
            "_model_module_version": "1.5.0",
            "_model_name": "HTMLModel",
            "_view_count": null,
            "_view_module": "@jupyter-widgets/controls",
            "_view_module_version": "1.5.0",
            "_view_name": "HTMLView",
            "description": "",
            "description_tooltip": null,
            "layout": "IPY_MODEL_8e5c3e1071174166b0a977d8d71ce0c6",
            "placeholder": "​",
            "style": "IPY_MODEL_8b4934d536304cc4b437f5e88e9300dc",
            "value": "<div class=\"scrollableTable jp-RenderedHTMLCommon\">\n  <table>\n<thead>\n<tr><th>Name   </th><th>Type  </th></tr>\n</thead>\n<tbody>\n<tr><td>Airline</td><td>string</td></tr>\n<tr><td>count()</td><td>int64 </td></tr>\n</tbody>\n</table>\n</div>\n<style>\n.scrollableTable {\n  overflow-y: auto;\n  max-height: 300px;\n}\n.scrollableTable table {\n  width: 100%;\n}\n.scrollableTable table :is(th,td) {\n  text-align: left !important;\n}\n.scrollableTable th {\n  background: var(--jp-layout-color1);\n  position: sticky;\n  top: 0;\n}\n</style>\n"
          }
        },
        "3713089a17ba47c285d811116e02895c": {
          "model_module": "@jupyter-widgets/base",
          "model_name": "LayoutModel",
          "model_module_version": "1.2.0",
          "state": {
            "_model_module": "@jupyter-widgets/base",
            "_model_module_version": "1.2.0",
            "_model_name": "LayoutModel",
            "_view_count": null,
            "_view_module": "@jupyter-widgets/base",
            "_view_module_version": "1.2.0",
            "_view_name": "LayoutView",
            "align_content": null,
            "align_items": null,
            "align_self": null,
            "border": null,
            "bottom": null,
            "display": null,
            "flex": null,
            "flex_flow": null,
            "grid_area": null,
            "grid_auto_columns": null,
            "grid_auto_flow": null,
            "grid_auto_rows": null,
            "grid_column": null,
            "grid_gap": null,
            "grid_row": null,
            "grid_template_areas": null,
            "grid_template_columns": null,
            "grid_template_rows": null,
            "height": null,
            "justify_content": null,
            "justify_items": null,
            "left": null,
            "margin": null,
            "max_height": null,
            "max_width": null,
            "min_height": null,
            "min_width": null,
            "object_fit": null,
            "object_position": null,
            "order": null,
            "overflow": null,
            "overflow_x": null,
            "overflow_y": null,
            "padding": null,
            "right": null,
            "top": null,
            "visibility": null,
            "width": null
          }
        },
        "ce1af605f25c405abe59a3454227c5e6": {
          "model_module": "@jupyter-widgets/base",
          "model_name": "LayoutModel",
          "model_module_version": "1.2.0",
          "state": {
            "_model_module": "@jupyter-widgets/base",
            "_model_module_version": "1.2.0",
            "_model_name": "LayoutModel",
            "_view_count": null,
            "_view_module": "@jupyter-widgets/base",
            "_view_module_version": "1.2.0",
            "_view_name": "LayoutView",
            "align_content": null,
            "align_items": null,
            "align_self": null,
            "border": null,
            "bottom": null,
            "display": null,
            "flex": null,
            "flex_flow": null,
            "grid_area": null,
            "grid_auto_columns": null,
            "grid_auto_flow": null,
            "grid_auto_rows": null,
            "grid_column": null,
            "grid_gap": null,
            "grid_row": null,
            "grid_template_areas": null,
            "grid_template_columns": null,
            "grid_template_rows": null,
            "height": null,
            "justify_content": null,
            "justify_items": null,
            "left": null,
            "margin": null,
            "max_height": null,
            "max_width": null,
            "min_height": null,
            "min_width": null,
            "object_fit": null,
            "object_position": null,
            "order": null,
            "overflow": null,
            "overflow_x": null,
            "overflow_y": null,
            "padding": null,
            "right": null,
            "top": null,
            "visibility": null,
            "width": null
          }
        },
        "ace060115ad04831939825259c0240c1": {
          "model_module": "@jupyter-widgets/controls",
          "model_name": "DescriptionStyleModel",
          "model_module_version": "1.5.0",
          "state": {
            "_model_module": "@jupyter-widgets/controls",
            "_model_module_version": "1.5.0",
            "_model_name": "DescriptionStyleModel",
            "_view_count": null,
            "_view_module": "@jupyter-widgets/base",
            "_view_module_version": "1.2.0",
            "_view_name": "StyleView",
            "description_width": ""
          }
        },
        "8e5c3e1071174166b0a977d8d71ce0c6": {
          "model_module": "@jupyter-widgets/base",
          "model_name": "LayoutModel",
          "model_module_version": "1.2.0",
          "state": {
            "_model_module": "@jupyter-widgets/base",
            "_model_module_version": "1.2.0",
            "_model_name": "LayoutModel",
            "_view_count": null,
            "_view_module": "@jupyter-widgets/base",
            "_view_module_version": "1.2.0",
            "_view_name": "LayoutView",
            "align_content": null,
            "align_items": null,
            "align_self": null,
            "border": null,
            "bottom": null,
            "display": null,
            "flex": null,
            "flex_flow": null,
            "grid_area": null,
            "grid_auto_columns": null,
            "grid_auto_flow": null,
            "grid_auto_rows": null,
            "grid_column": null,
            "grid_gap": null,
            "grid_row": null,
            "grid_template_areas": null,
            "grid_template_columns": null,
            "grid_template_rows": null,
            "height": null,
            "justify_content": null,
            "justify_items": null,
            "left": null,
            "margin": null,
            "max_height": null,
            "max_width": null,
            "min_height": null,
            "min_width": null,
            "object_fit": null,
            "object_position": null,
            "order": null,
            "overflow": null,
            "overflow_x": null,
            "overflow_y": null,
            "padding": null,
            "right": null,
            "top": null,
            "visibility": null,
            "width": null
          }
        },
        "8b4934d536304cc4b437f5e88e9300dc": {
          "model_module": "@jupyter-widgets/controls",
          "model_name": "DescriptionStyleModel",
          "model_module_version": "1.5.0",
          "state": {
            "_model_module": "@jupyter-widgets/controls",
            "_model_module_version": "1.5.0",
            "_model_name": "DescriptionStyleModel",
            "_view_count": null,
            "_view_module": "@jupyter-widgets/base",
            "_view_module_version": "1.2.0",
            "_view_name": "StyleView",
            "description_width": ""
          }
        }
      }
    }
  },
  "cells": [
    {
      "cell_type": "markdown",
      "metadata": {
        "id": "view-in-github",
        "colab_type": "text"
      },
      "source": [
        "<a href=\"https://colab.research.google.com/github/smc395/ics691_big_data_project/blob/main/Ray_Tutorial.ipynb\" target=\"_parent\"><img src=\"https://colab.research.google.com/assets/colab-badge.svg\" alt=\"Open In Colab\"/></a>"
      ]
    },
    {
      "cell_type": "markdown",
      "source": [
        "# Project Introduction\n",
        "This tutorial is for ICS691 Big Data Analytics Fall 2022 semester project. I will be evaluating [Ray](https://www.ray.io/), an open-source unified compute framework.\n",
        "\n",
        "## Dataset\n",
        "The dataset that I will be using in this project is the Flight Delay dataset from Kaggle. It contains flight data from January 2018 to July 2022. In addition to the flight data, the dataset contains `Airlines.csv`, a CSV that contains the [IATA](https://www.iata.org/en/publications/directories/code-search/) code and name for 1,570 airlines.The flight data is stored in the Apache parquet format.\n",
        "\n",
        "## Big Data Justification\n",
        "This is a big data project because the parquet dataset files themselves are roughly 200 MB each and taken together would be 1GB. Processing this entire dataset in RAM would be slow and the dataset authors seemingly update this dataset every couple of months meaning that as time goes on, the amount of data will grow. Repeating this analysis overtime would therefore need resources and/or methods to perform this analysis at scale and speed.\n",
        "\n",
        "## Project Goal\n",
        "The goal of this tutorial will be to use Ray to do some exploratory data analysis and visualization for different airlines. It will demonstrate some of the key concepts within the Ray Dataset library and Ray Core of this framework."
      ],
      "metadata": {
        "id": "lXpMYp9MCbJZ"
      }
    },
    {
      "cell_type": "markdown",
      "source": [
        "# References\n",
        "1. [Ray Documentation](https://docs.ray.io/en/latest/ray-overview/index.html)\n",
        "2. [Downloading Kaggle datasets directly into Google Colab](https://towardsdatascience.com/downloading-kaggle-datasets-directly-into-google-colab-c8f0f407d73a)\n",
        "3. [Kaggle Flight Delay Dataset](https://www.kaggle.com/datasets/robikscube/flight-delay-dataset-20182022)\n",
        "4. [Apache Parquet](https://parquet.apache.org/docs/overview/motivation/)\n",
        "5. [Apache Arrow](https://arrow.apache.org/docs/format/Columnar.html)\n",
        "6. [Moritz et al. - Ray Paper](https://www.usenix.org/system/files/osdi18-moritz.pdf)"
      ],
      "metadata": {
        "id": "lHQOeh6GArly"
      }
    },
    {
      "cell_type": "markdown",
      "source": [
        "# Getting Started\n",
        "To start we will install the necessary libraries and import the necessary dependencies to do the analysis."
      ],
      "metadata": {
        "id": "AGxqxvrPKo6n"
      }
    },
    {
      "cell_type": "code",
      "source": [
        "# Install dependencies\n",
        "%%capture --no-display\n",
        "!pip install -U \"pyarrow<7.0.0\"\n",
        "!pip install ray\n",
        "!pip install kaggle"
      ],
      "metadata": {
        "id": "H-pbmAmH-GlN"
      },
      "execution_count": 1,
      "outputs": []
    },
    {
      "cell_type": "code",
      "execution_count": 2,
      "metadata": {
        "id": "LknzqHVu76pO"
      },
      "outputs": [],
      "source": [
        "# Import dependencies and create Ray cluster\n",
        "import os\n",
        "import pyarrow as pa\n",
        "import pyarrow.compute as pc\n",
        "import matplotlib.pyplot as plt\n",
        "import ray"
      ]
    },
    {
      "cell_type": "code",
      "source": [
        "# Determine how many CPUs we have to work with and distribute across\n",
        "os.cpu_count()"
      ],
      "metadata": {
        "colab": {
          "base_uri": "https://localhost:8080/"
        },
        "id": "iDa7XBiCbIDi",
        "outputId": "31e36d89-7ab0-453c-b3e8-1f8d3a08a6d9"
      },
      "execution_count": null,
      "outputs": [
        {
          "output_type": "execute_result",
          "data": {
            "text/plain": [
              "2"
            ]
          },
          "metadata": {},
          "execution_count": 13
        }
      ]
    },
    {
      "cell_type": "code",
      "source": [
        "# Determine if and what type of GPU we have to work with\n",
        "!nvidia-smi -L"
      ],
      "metadata": {
        "colab": {
          "base_uri": "https://localhost:8080/"
        },
        "id": "-AqbwbpGwTxG",
        "outputId": "f23f7ac9-6a5c-474a-e87d-59c04a24feb8"
      },
      "execution_count": null,
      "outputs": [
        {
          "output_type": "stream",
          "name": "stdout",
          "text": [
            "GPU 0: Tesla T4 (UUID: GPU-5bb87bd1-3f50-d07e-acb5-8561116d037c)\n"
          ]
        }
      ]
    },
    {
      "cell_type": "markdown",
      "source": [
        "## Import Dataset to Colab\n",
        "We will download the dataset to Google Drive using the Kaggle API so that the dataset can be used in this Jupyter notebook."
      ],
      "metadata": {
        "id": "9WZb1ti8ZlNz"
      }
    },
    {
      "cell_type": "code",
      "source": [
        "# Create a folder named kaggle in your Google Drive and place the kaggle.json\n",
        "# from your Kaggle account before runnig this code block.\n",
        "os.environ['KAGGLE_CONFIG_DIR'] = '/gdrive/MyDrive/kaggle'\n",
        "os.chdir('/gdrive/MyDrive/kaggle')"
      ],
      "metadata": {
        "colab": {
          "base_uri": "https://localhost:8080/",
          "height": 35
        },
        "id": "3ulBsR-WqZcf",
        "outputId": "99fafd49-3d81-4657-e18e-18ba6297e444"
      },
      "execution_count": null,
      "outputs": [
        {
          "output_type": "execute_result",
          "data": {
            "text/plain": [
              "'/content'"
            ],
            "application/vnd.google.colaboratory.intrinsic+json": {
              "type": "string"
            }
          },
          "metadata": {},
          "execution_count": 4
        }
      ]
    },
    {
      "cell_type": "code",
      "source": [
        "# This will connect the Colab notebook to your Google Drive account\n",
        "from google.colab import drive\n",
        "drive.mount('/gdrive')"
      ],
      "metadata": {
        "id": "A2PjM2_CdIHt"
      },
      "execution_count": null,
      "outputs": []
    },
    {
      "cell_type": "code",
      "source": [
        "# Download the dataset to Google Drive kaggle folder.\n",
        "# We do this because Colab times out after 30 min wiping all data.\n",
        "!kaggle datasets download -d robikscube/flight-delay-dataset-20182022"
      ],
      "metadata": {
        "colab": {
          "base_uri": "https://localhost:8080/"
        },
        "id": "VxmX0FK9sGOf",
        "outputId": "46900632-946e-4c92-e11e-11a0db878d76"
      },
      "execution_count": null,
      "outputs": [
        {
          "output_type": "stream",
          "name": "stdout",
          "text": [
            "Downloading flight-delay-dataset-20182022.zip to /gdrive/MyDrive/kaggle\n",
            "100% 3.72G/3.73G [00:28<00:00, 170MB/s]\n",
            "100% 3.73G/3.73G [00:28<00:00, 142MB/s]\n"
          ]
        }
      ]
    },
    {
      "cell_type": "code",
      "source": [
        "# Set the path of where the zipped dataset is located\n",
        "zip_path = '/gdrive/MyDrive/kaggle/flight-delay-dataset-20182022.zip'"
      ],
      "metadata": {
        "id": "R2WScX2EwJZo"
      },
      "execution_count": null,
      "outputs": []
    },
    {
      "cell_type": "code",
      "source": [
        "# Create a flight_data folder in Google Colab if it does not already exist to hold the data files.\n",
        "# Copy the zip folder from your Google Drive to Colab.\n",
        "if not os.path.exists('/content/flight_data'):\n",
        "  os.mkdir('/content/flight_data')\n",
        "os.chdir('/content/flight_data')\n",
        "!cp '{zip_path}' ."
      ],
      "metadata": {
        "id": "YaBGmEsOu7ip"
      },
      "execution_count": null,
      "outputs": []
    },
    {
      "cell_type": "code",
      "source": [
        "# Unzip the dataset in Colab. This will take some time.\n",
        "# It is recommended to delete the raw folder and keep only one file format of the data to save disk space.\n",
        "!unzip -q 'flight-delay-dataset-20182022.zip'"
      ],
      "metadata": {
        "id": "vSbtzR9UxfCO"
      },
      "execution_count": null,
      "outputs": []
    },
    {
      "cell_type": "markdown",
      "source": [
        "# Ray\n",
        "## Introduction\n",
        "Ray [\\[1\\]](https://docs.ray.io/en/latest/ray-overview/index.html) was designed to help address challenges that come with the scale and the need for efficient processing of large amounts of data for reinforcement learning applications [\\[6\\]](https://www.usenix.org/system/files/osdi18-moritz.pdf). It was built for Python, but also currently suppors Java. Ray has different libraries to handle different steps within the machine learning pipeline (loading data, wrangling it, training a model, model validation, and serving the model). Ray is currently working on toolkit to unify these steps end-to-end, however each library can be used on its own. \n",
        "\n",
        "## Programming Model\n",
        "Ray is able to scale and run in a computationally efficient way because of the programming model it employs. This model is comprises Tasks, Actors, and Objects to accomplish computations in a distributed manner. These three are what make up Ray Core.\n",
        "\n",
        "Using Ray, we can scale programs from a laptop to a cluster without needing to modify our program as Ray will handle the parallelization and repartitioning behind the scenes on a cluster such as Amazon Web Services (AWS), Google Cloud Platform (GCP), and Kubernetes.\n",
        "\n",
        "## Starting Ray\n",
        "To start using Ray, we first have to initialize a Ray cluster by calling `init()`. This only needs to be called once during the entire usage of Ray. To restart the Ray cluster, call `shutdown()`."
      ],
      "metadata": {
        "id": "3-_jG5fnrQ9w"
      }
    },
    {
      "cell_type": "code",
      "source": [
        "ray.init()"
      ],
      "metadata": {
        "id": "gisebKXos7RG",
        "colab": {
          "base_uri": "https://localhost:8080/",
          "height": 79
        },
        "outputId": "c6f0e3e8-05cd-47a4-aa21-9733024b5d33"
      },
      "execution_count": 3,
      "outputs": [
        {
          "output_type": "stream",
          "name": "stderr",
          "text": [
            "2022-12-12 07:29:26,864\tINFO worker.py:1528 -- Started a local Ray instance.\n"
          ]
        },
        {
          "output_type": "execute_result",
          "data": {
            "text/plain": [
              "RayContext(dashboard_url='', python_version='3.8.16', ray_version='2.1.0', ray_commit='be49bde7ee4f6adb3f8710aee0665c27f9f0bb62', address_info={'node_ip_address': '172.28.0.12', 'raylet_ip_address': '172.28.0.12', 'redis_address': None, 'object_store_address': '/tmp/ray/session_2022-12-12_07-29-23_142776_13202/sockets/plasma_store', 'raylet_socket_name': '/tmp/ray/session_2022-12-12_07-29-23_142776_13202/sockets/raylet', 'webui_url': '', 'session_dir': '/tmp/ray/session_2022-12-12_07-29-23_142776_13202', 'metrics_export_port': 36551, 'gcs_address': '172.28.0.12:63446', 'address': '172.28.0.12:63446', 'dashboard_agent_listen_port': 52365, 'node_id': 'bb5db0f527c5515b0d04d956c2cce4e5f74d081a31ce671847fc3592'})"
            ],
            "text/html": [
              "<div>\n",
              "    <div style=\"margin-left: 50px;display: flex;flex-direction: row;align-items: center\">\n",
              "        <h3 style=\"color: var(--jp-ui-font-color0)\">Ray</h3>\n",
              "        <svg version=\"1.1\" id=\"ray\" width=\"3em\" viewBox=\"0 0 144.5 144.6\" style=\"margin-left: 3em;margin-right: 3em\">\n",
              "            <g id=\"layer-1\">\n",
              "                <path fill=\"#00a2e9\" class=\"st0\" d=\"M97.3,77.2c-3.8-1.1-6.2,0.9-8.3,5.1c-3.5,6.8-9.9,9.9-17.4,9.6S58,88.1,54.8,81.2c-1.4-3-3-4-6.3-4.1\n",
              "                    c-5.6-0.1-9.9,0.1-13.1,6.4c-3.8,7.6-13.6,10.2-21.8,7.6C5.2,88.4-0.4,80.5,0,71.7c0.1-8.4,5.7-15.8,13.8-18.2\n",
              "                    c8.4-2.6,17.5,0.7,22.3,8c1.3,1.9,1.3,5.2,3.6,5.6c3.9,0.6,8,0.2,12,0.2c1.8,0,1.9-1.6,2.4-2.8c3.5-7.8,9.7-11.8,18-11.9\n",
              "                    c8.2-0.1,14.4,3.9,17.8,11.4c1.3,2.8,2.9,3.6,5.7,3.3c1-0.1,2,0.1,3,0c2.8-0.5,6.4,1.7,8.1-2.7s-2.3-5.5-4.1-7.5\n",
              "                    c-5.1-5.7-10.9-10.8-16.1-16.3C84,38,81.9,37.1,78,38.3C66.7,42,56.2,35.7,53,24.1C50.3,14,57.3,2.8,67.7,0.5\n",
              "                    C78.4-2,89,4.7,91.5,15.3c0.1,0.3,0.1,0.5,0.2,0.8c0.7,3.4,0.7,6.9-0.8,9.8c-1.7,3.2-0.8,5,1.5,7.2c6.7,6.5,13.3,13,19.8,19.7\n",
              "                    c1.8,1.8,3,2.1,5.5,1.2c9.1-3.4,17.9-0.6,23.4,7c4.8,6.9,4.6,16.1-0.4,22.9c-5.4,7.2-14.2,9.9-23.1,6.5c-2.3-0.9-3.5-0.6-5.1,1.1\n",
              "                    c-6.7,6.9-13.6,13.7-20.5,20.4c-1.8,1.8-2.5,3.2-1.4,5.9c3.5,8.7,0.3,18.6-7.7,23.6c-7.9,5-18.2,3.8-24.8-2.9\n",
              "                    c-6.4-6.4-7.4-16.2-2.5-24.3c4.9-7.8,14.5-11,23.1-7.8c3,1.1,4.7,0.5,6.9-1.7C91.7,98.4,98,92.3,104.2,86c1.6-1.6,4.1-2.7,2.6-6.2\n",
              "                    c-1.4-3.3-3.8-2.5-6.2-2.6C99.8,77.2,98.9,77.2,97.3,77.2z M72.1,29.7c5.5,0.1,9.9-4.3,10-9.8c0-0.1,0-0.2,0-0.3\n",
              "                    C81.8,14,77,9.8,71.5,10.2c-5,0.3-9,4.2-9.3,9.2c-0.2,5.5,4,10.1,9.5,10.3C71.8,29.7,72,29.7,72.1,29.7z M72.3,62.3\n",
              "                    c-5.4-0.1-9.9,4.2-10.1,9.7c0,0.2,0,0.3,0,0.5c0.2,5.4,4.5,9.7,9.9,10c5.1,0.1,9.9-4.7,10.1-9.8c0.2-5.5-4-10-9.5-10.3\n",
              "                    C72.6,62.3,72.4,62.3,72.3,62.3z M115,72.5c0.1,5.4,4.5,9.7,9.8,9.9c5.6-0.2,10-4.8,10-10.4c-0.2-5.4-4.6-9.7-10-9.7\n",
              "                    c-5.3-0.1-9.8,4.2-9.9,9.5C115,72.1,115,72.3,115,72.5z M19.5,62.3c-5.4,0.1-9.8,4.4-10,9.8c-0.1,5.1,5.2,10.4,10.2,10.3\n",
              "                    c5.6-0.2,10-4.9,9.8-10.5c-0.1-5.4-4.5-9.7-9.9-9.6C19.6,62.3,19.5,62.3,19.5,62.3z M71.8,134.6c5.9,0.2,10.3-3.9,10.4-9.6\n",
              "                    c0.5-5.5-3.6-10.4-9.1-10.8c-5.5-0.5-10.4,3.6-10.8,9.1c0,0.5,0,0.9,0,1.4c-0.2,5.3,4,9.8,9.3,10\n",
              "                    C71.6,134.6,71.7,134.6,71.8,134.6z\"/>\n",
              "            </g>\n",
              "        </svg>\n",
              "        <table>\n",
              "            <tr>\n",
              "                <td style=\"text-align: left\"><b>Python version:</b></td>\n",
              "                <td style=\"text-align: left\"><b>3.8.16</b></td>\n",
              "            </tr>\n",
              "            <tr>\n",
              "                <td style=\"text-align: left\"><b>Ray version:</b></td>\n",
              "                <td style=\"text-align: left\"><b> 2.1.0</b></td>\n",
              "            </tr>\n",
              "            \n",
              "        </table>\n",
              "    </div>\n",
              "</div>\n"
            ]
          },
          "metadata": {},
          "execution_count": 3
        }
      ]
    },
    {
      "cell_type": "code",
      "source": [
        "# check that the ray cluster has properly initialized\n",
        "assert ray.is_initialized"
      ],
      "metadata": {
        "id": "ZIkLgd5btFYp"
      },
      "execution_count": 4,
      "outputs": []
    },
    {
      "cell_type": "markdown",
      "source": [
        "## Tasks\n",
        "Tasks are functions that can be executed in a distributed manner. This can be accomplished by using the decorator `@ray.remote`. The function will now be a remote function that can be run on clusters. For example,"
      ],
      "metadata": {
        "id": "ebw06BGWF0PC"
      }
    },
    {
      "cell_type": "code",
      "source": [
        "# Use the `@ray.remote` decorator to turn any function into a remote function\n",
        "@ray.remote\n",
        "def foo(a):\n",
        "  return a"
      ],
      "metadata": {
        "id": "M5YjSR6UFHT9"
      },
      "execution_count": 5,
      "outputs": []
    },
    {
      "cell_type": "markdown",
      "source": [
        "To execute the function, call `function.remote(args)` and pass in any arguments that `function` takes into `remote()`."
      ],
      "metadata": {
        "id": "srhELml7Hc8J"
      }
    },
    {
      "cell_type": "code",
      "source": [
        "bar = foo.remote('hello world')\n",
        "bar"
      ],
      "metadata": {
        "colab": {
          "base_uri": "https://localhost:8080/"
        },
        "id": "pHZ4YONPFMhG",
        "outputId": "7effd690-d0c1-4905-d945-d80ff143047d"
      },
      "execution_count": 6,
      "outputs": [
        {
          "output_type": "execute_result",
          "data": {
            "text/plain": [
              "ObjectRef(c8ef45ccd0112571ffffffffffffffffffffffff0100000001000000)"
            ]
          },
          "metadata": {},
          "execution_count": 6
        }
      ]
    },
    {
      "cell_type": "markdown",
      "source": [
        "## Objects\n",
        "As you can see, `remote()` returns an `ObjectRef`. This is a future remote object, meaning that something will be returned from Ray. It is essentially a pointer or a unique ID that can be used to refer to a remote object without seeing its value. It is a similar concept as JavaScript [Promises](https://developer.mozilla.org/en-US/docs/Web/JavaScript/Reference/Global_Objects/Promise).\n",
        "\n",
        "Remote objects can be stored anywhere in a Ray cluster and cached in Ray’s distributed shared-memory object store, and there is one object store per node in the cluster. In the cluster setting, a remote object can live on one or many nodes, independent of who holds the object ref(s) [\\[1\\]](https://docs.ray.io/en/latest/ray-core/objects.html#objects-in-ray).\n",
        "\n",
        "To return the value, we use `get()` on the remote object."
      ],
      "metadata": {
        "id": "TQdmAH9KIhEK"
      }
    },
    {
      "cell_type": "code",
      "source": [
        "print(ray.get(bar))"
      ],
      "metadata": {
        "colab": {
          "base_uri": "https://localhost:8080/"
        },
        "id": "8saUMBYhLXAj",
        "outputId": "432b80bc-9246-4103-f401-2fa6c52ec5cd"
      },
      "execution_count": 7,
      "outputs": [
        {
          "output_type": "stream",
          "name": "stdout",
          "text": [
            "hello world\n"
          ]
        }
      ]
    },
    {
      "cell_type": "markdown",
      "source": [
        "## Actor\n",
        "Actors are stateful objects. You create them by using the same `ray.remote` decorator for Python classes. You interact with the remote class object by calling `remote()` as well. As with any Python class, you can define methods within the class to be called. To do this, you use the pattern `actor.method.remote()`."
      ],
      "metadata": {
        "id": "HW8yBp_xNweo"
      }
    },
    {
      "cell_type": "code",
      "source": [
        "from random import randint"
      ],
      "metadata": {
        "id": "a77GTmw0NNIT"
      },
      "execution_count": 5,
      "outputs": []
    },
    {
      "cell_type": "code",
      "source": [
        "# Turn this class into a Ray Actor\n",
        "@ray.remote\n",
        "class RayCounter:\n",
        "  def __init__(self, num):\n",
        "    self.id = num\n",
        "    self.counter = 0\n",
        "\n",
        "  def increment(self):\n",
        "    self.counter += 1\n",
        "  \n",
        "  def get_counter(self) -> int:\n",
        "    return self.counter\n",
        "\n",
        "  def get_id(self) -> int:\n",
        "    return self.id"
      ],
      "metadata": {
        "id": "YqhkhZ_R-7MK"
      },
      "execution_count": 6,
      "outputs": []
    },
    {
      "cell_type": "code",
      "source": [
        "# Create three Counter classes with different ids\n",
        "ray_counters = [RayCounter.remote(num) for num in range(3)]\n",
        "ray_counters"
      ],
      "metadata": {
        "colab": {
          "base_uri": "https://localhost:8080/"
        },
        "id": "TJu9rop2ADZ5",
        "outputId": "ef80ba0c-34ab-4d40-9730-d93a349427f9"
      },
      "execution_count": 7,
      "outputs": [
        {
          "output_type": "execute_result",
          "data": {
            "text/plain": [
              "[Actor(RayCounter, 704030b18da22640f08d6c7301000000),\n",
              " Actor(RayCounter, c0f6a1524d7bd221657c6eae01000000),\n",
              " Actor(RayCounter, 20f7cbc2a9028e3df19772a101000000)]"
            ]
          },
          "metadata": {},
          "execution_count": 7
        }
      ]
    },
    {
      "cell_type": "code",
      "source": [
        "# Create a Ray task that will increment the actor's counter over time\n",
        "# Note that here you can specify the usage of GPUs for this task\n",
        "@ray.remote(num_gpus=1)\n",
        "def worker(counter_actors, i):\n",
        "  counter_actors[i].increment.remote()"
      ],
      "metadata": {
        "id": "Q0uhWa0UJ7aW"
      },
      "execution_count": 8,
      "outputs": []
    },
    {
      "cell_type": "code",
      "source": [
        "# 10,000 times increment a random Counter actor \n",
        "count = 0\n",
        "while count < 10_000:\n",
        "  i = randint(0, 2)  \n",
        "  worker.remote(ray_counters, i) # this will distribute the task of incrementing the actor's state over clusters\n",
        "  count += 1\n",
        "print(f'\\nAfter {count} iterations...')\n",
        "\n",
        "for counter in ray_counters:\n",
        "  id_ref = counter.get_id.remote()\n",
        "  counter_ref = counter.get_counter.remote()   \n",
        "  print(f'Counter {ray.get(id_ref)} value is {ray.get(counter_ref)}')"
      ],
      "metadata": {
        "colab": {
          "base_uri": "https://localhost:8080/"
        },
        "id": "ub8N62WIAUFJ",
        "outputId": "1280d421-e7b4-45dc-8f98-06b43a790b58"
      },
      "execution_count": 9,
      "outputs": [
        {
          "output_type": "stream",
          "name": "stdout",
          "text": [
            "\n",
            "After 10000 iterations...\n",
            "Counter 0 value is 88\n",
            "Counter 1 value is 81\n",
            "Counter 2 value is 80\n"
          ]
        }
      ]
    },
    {
      "cell_type": "code",
      "source": [
        "# It seems to take some time depending on the number of taks you have for all\n",
        "# task to finish and finally return what we expected for the Counter actors \n",
        "for counter in ray_counters:\n",
        "  id_ref = counter.get_id.remote() # call the actor's get_id() method\n",
        "  counter_ref = counter.get_counter.remote() # call the actor's get_counter() method\n",
        "  print(f'Counter {ray.get(id_ref)} value is {ray.get(counter_ref)}') # use the actor_obj_ref to get the value returned"
      ],
      "metadata": {
        "colab": {
          "base_uri": "https://localhost:8080/"
        },
        "id": "lVBG3c8mPkvI",
        "outputId": "0888b1e9-ff94-43a3-e9b4-9f69773d29e5"
      },
      "execution_count": 25,
      "outputs": [
        {
          "output_type": "stream",
          "name": "stdout",
          "text": [
            "Counter 0 value is 3335\n",
            "Counter 1 value is 3351\n",
            "Counter 2 value is 3314\n"
          ]
        }
      ]
    },
    {
      "cell_type": "code",
      "source": [
        "ray.shutdown() # stop the ray cluster for this example"
      ],
      "metadata": {
        "id": "b6CmYbr3RFcD"
      },
      "execution_count": null,
      "outputs": []
    },
    {
      "cell_type": "markdown",
      "source": [
        "A table summarizing  Ray Core from Mortiz et al. paper [\\[6\\]](https://www.usenix.org/system/files/osdi18-moritz.pdf).\n",
        "\n",
        "![Ray API.png](data:image/png;base64,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)"
      ],
      "metadata": {
        "id": "B01012tmMZ_-"
      }
    },
    {
      "cell_type": "markdown",
      "source": [
        "# Flight Data Set Analysis Using Ray\n",
        "## Reading Parquet Dataset\n",
        "### What is Parquet?\n",
        "Apache Parquet is a data storage format where data is stored as columns instead of rows. For example, in a row based stoarge, you would see a table as names and ages as:\n",
        "\n",
        "| Name | Age |\n",
        "|------|-----|\n",
        "| John | 18  | \n",
        "| Jane | 20  |\n",
        "| Joe  | 21  |\n",
        "\n",
        "Using parquet, the data will be stored as such:\n",
        "\n",
        "|   |   |   |   |   |\n",
        "|------|------|------|-----|---|\n",
        "| Name | John | Jane | Joe |   |\n",
        "| Age  | 18   | 20   | 21  |   |\n",
        "\n",
        "Storing data as columnar can help with analysis since when loading the data into memory for analysis, you can keep one continous block of memory (leading to more efficient reads). In addition, parquet is built to support compression and encoding efficiently.\n",
        "\n",
        "## Columns from Flight Dataset Used\n",
        "For the analysis, we will be using these columns\n",
        "*   Year\n",
        "*   Quarter (1-4)\n",
        "*   Month\n",
        "*   DayofWeek\n",
        "*   FlightDate (yyymmdd)\n",
        "*   Operating_Airline (aka Unique Carrier Code)\n",
        "*   Airline (Airline name)\n",
        "*   Cancelled (1=Yes, 0=No)\n",
        "*   Diverted  (1=Yes, 0=No)\n",
        "*   DepDelay (Difference in minutes between scheduled and actual departure time. Early departures show negative numbers.)\n",
        "*   ArrDelay (Difference in minutes between scheduled and actual arrival time. Early arrivals show negative numbers.)\n",
        "*   Dest (Destination airport)\n",
        "*   Origin (Origin airport)\n",
        "\n"
      ],
      "metadata": {
        "id": "LkFoHXSpYX6X"
      }
    },
    {
      "cell_type": "code",
      "source": [
        "#parquet_file_paths = [\n",
        "#'/content/flight_data/Combined_Flights_2018.parquet'\n",
        "#,'/content/flight_data/Combined_Flights_2019.parquet'\n",
        "#,'/content/flight_data/Combined_Flights_2020.parquet'\n",
        "#,'/content/flight_data/Combined_Flights_2021.parquet'\n",
        "#,'/content/flight_data/Combined_Flights_2022.parquet'\n",
        "#]"
      ],
      "metadata": {
        "colab": {
          "base_uri": "https://localhost:8080/"
        },
        "id": "W_hMkSpEyFXp",
        "outputId": "0977b9f1-f8cc-44f5-a3ea-e1b7c5acecbe"
      },
      "execution_count": null,
      "outputs": [
        {
          "output_type": "execute_result",
          "data": {
            "text/plain": [
              "['Combined_Flights_2021.csv',\n",
              " 'Combined_Flights_2018.csv',\n",
              " 'Airlines.csv',\n",
              " 'Combined_Flights_2020.csv',\n",
              " 'raw',\n",
              " 'readme.md',\n",
              " 'Combined_Flights_2019.csv',\n",
              " 'Combined_Flights_2018.parquet',\n",
              " 'Combined_Flights_2021.parquet',\n",
              " 'Combined_Flights_2019.parquet',\n",
              " 'Combined_Flights_2022.parquet',\n",
              " '.ipynb_checkpoints',\n",
              " 'Combined_Flights_2020.parquet',\n",
              " 'flight-delay-dataset-20182022.zip',\n",
              " 'readme.html',\n",
              " 'Combined_Flights_2022.csv']"
            ]
          },
          "metadata": {},
          "execution_count": 49
        }
      ]
    },
    {
      "cell_type": "markdown",
      "source": [],
      "metadata": {
        "id": "aSeMgnzLF7cr"
      }
    },
    {
      "cell_type": "code",
      "source": [
        "airlines = ray.data.read_csv('/content/flight_data/Airlines.csv')"
      ],
      "metadata": {
        "id": "dWrYl_hyFlp0"
      },
      "execution_count": null,
      "outputs": []
    },
    {
      "cell_type": "code",
      "source": [
        "ds = ray.data.read_parquet([\n",
        "    \"s3://anonymous@air-example-data/ursa-labs-taxi-data/downsampled_2009_01_data.parquet\",\n",
        "    \"s3://anonymous@air-example-data/ursa-labs-taxi-data/downsampled_2009_02_data.parquet\"\n",
        "])"
      ],
      "metadata": {
        "colab": {
          "base_uri": "https://localhost:8080/"
        },
        "id": "hTqrVqcC-Are",
        "outputId": "1b281f59-79cb-44ef-ef38-24e834eb8432"
      },
      "execution_count": null,
      "outputs": [
        {
          "output_type": "stream",
          "name": "stderr",
          "text": [
            "Parquet Files Sample:   0%|          | 0/2 [00:00<?, ?it/s]\n",
            "Parquet Files Sample:  50%|█████     | 1/2 [00:07<00:07,  7.11s/it]\n",
            "Parquet Files Sample: 100%|██████████| 2/2 [00:07<00:00,  3.80s/it]\n"
          ]
        }
      ]
    },
    {
      "cell_type": "code",
      "source": [
        "flight_columns = ['Operating_Airline', 'Airline', 'Year', 'Quarter', 'Month'\n",
        ", 'DayofWeek', 'FlightDate', 'Cancelled', 'Diverted', 'DepDelay', 'ArrDelay'\n",
        ", 'Dest', 'Origin']"
      ],
      "metadata": {
        "id": "wUVdz4PMaQEi"
      },
      "execution_count": null,
      "outputs": []
    },
    {
      "cell_type": "code",
      "source": [
        "# Read in flight data in parallel\n",
        "#flights = ray.data.read_parquet(parquet_file_paths, parallelism=5).repartition(5)\n",
        "flights = ray.data.read_parquet(paths='/content/flight_data/Combined_Flights_2018.parquet', columns=flight_columns, parallelism=2).repartition(2)"
      ],
      "metadata": {
        "id": "GC40He2mzyp6"
      },
      "execution_count": null,
      "outputs": []
    },
    {
      "cell_type": "code",
      "source": [
        "@ray.remote\n",
        "def read_flight_parquet(file_path: str, columns: list):\n",
        "  flight_dataset = ray.data.read_parquet(paths=file_path, columns=columns, parallelism=2).repartition(2)\n",
        "  # this will return a future\n",
        "  return flight_dataset"
      ],
      "metadata": {
        "id": "CDF4hI32ky0O"
      },
      "execution_count": null,
      "outputs": []
    },
    {
      "cell_type": "code",
      "source": [
        "flights_objref = read_flight_parquet.remote('/content/flight_data/Combined_Flights_2018.parquet', flight_columns)"
      ],
      "metadata": {
        "id": "PTitJZV5lSzS"
      },
      "execution_count": null,
      "outputs": []
    },
    {
      "cell_type": "code",
      "source": [
        "flights.count()"
      ],
      "metadata": {
        "colab": {
          "base_uri": "https://localhost:8080/"
        },
        "id": "DkiMw_3Nz9wB",
        "outputId": "6f250dee-7c1c-46ae-8b07-6293d7899b1c"
      },
      "execution_count": null,
      "outputs": [
        {
          "output_type": "execute_result",
          "data": {
            "text/plain": [
              "5689512"
            ]
          },
          "metadata": {},
          "execution_count": 5
        }
      ]
    },
    {
      "cell_type": "code",
      "source": [
        "flights.groupby('Operating_Airline').count()"
      ],
      "metadata": {
        "colab": {
          "base_uri": "https://localhost:8080/",
          "height": 285,
          "referenced_widgets": [
            "4bf881ca80ad44de9318df2f3e8d77f3",
            "076125dfd39d4317ada4fa96cef5495c",
            "9944e53ce6b8463db38396f4cb72c53a",
            "71cb6969160d4dd089c05ec9442d0323",
            "ea3acfca2c5c4c78bddc72056bba02e2",
            "a0bfb52fadb341f8b7bb35de2a946f4e",
            "d389cd843cda4d3a99e991456d5ce2e2",
            "c61dc806445f4e2dbd93ea1bc20e38ef",
            "3713089a17ba47c285d811116e02895c",
            "ce1af605f25c405abe59a3454227c5e6",
            "ace060115ad04831939825259c0240c1",
            "8e5c3e1071174166b0a977d8d71ce0c6",
            "8b4934d536304cc4b437f5e88e9300dc"
          ]
        },
        "id": "4GaTUdFZ05z_",
        "outputId": "6fa49fa5-d6fc-490c-ed3f-d72abc32c2b9"
      },
      "execution_count": null,
      "outputs": [
        {
          "output_type": "stream",
          "name": "stderr",
          "text": [
            "Sort Sample: 100%|██████████| 5/5 [00:01<00:00,  2.56it/s]\n",
            "Shuffle Map: 100%|██████████| 5/5 [00:47<00:00,  9.41s/it]\n",
            "Shuffle Reduce: 100%|██████████| 5/5 [00:00<00:00, 11.75it/s]\n"
          ]
        },
        {
          "output_type": "display_data",
          "data": {
            "text/plain": [
              "VBox(children=(HTML(value='<h2>Dataset</h2>'), Tab(children=(HTML(value='<div class=\"scrollableTable jp-Render…"
            ],
            "application/vnd.jupyter.widget-view+json": {
              "version_major": 2,
              "version_minor": 0,
              "model_id": "4bf881ca80ad44de9318df2f3e8d77f3"
            }
          },
          "metadata": {}
        }
      ]
    },
    {
      "cell_type": "markdown",
      "source": [
        "# Goal: Determine the cancellation rate for each airline using Ray\n",
        "# Create an airline Actor\n",
        "# Create Tasks to\n",
        "1. Calculate the percentage of cancelled flights\n",
        "2. The average delay time\n",
        "3. The average distance flown\n",
        "4. The number of flights to a destination"
      ],
      "metadata": {
        "id": "kq--VOwBHgur"
      }
    },
    {
      "cell_type": "code",
      "source": [
        "# turn this class into an Actor\n",
        "@ray.remote\n",
        "class Airline:\n",
        "  def __init__(self, code, name):\n",
        "    self.code = code\n",
        "    self.name = name\n",
        "    self.i = 0\n",
        "\n",
        "  def get_code(self):\n",
        "    return self.code\n",
        "\n",
        "  def get_name(self):\n",
        "    return self.name\n",
        "\n",
        "  def incr(self, value):\n",
        "    self.i += value"
      ],
      "metadata": {
        "id": "KKaZRUZqHZ5f"
      },
      "execution_count": null,
      "outputs": []
    },
    {
      "cell_type": "code",
      "source": [
        "# get the top 4 airlines from the key\n",
        "r = airlines.take(4)\n",
        "r"
      ],
      "metadata": {
        "colab": {
          "base_uri": "https://localhost:8080/"
        },
        "id": "wVsJf8hYIZss",
        "outputId": "006c389e-0ac3-4740-9cfb-e51d854aaf0a"
      },
      "execution_count": null,
      "outputs": [
        {
          "output_type": "execute_result",
          "data": {
            "text/plain": [
              "[ArrowRow({'Code': '02Q', 'Description': 'Titan Airways'}),\n",
              " ArrowRow({'Code': '04Q', 'Description': 'Tradewind Aviation'}),\n",
              " ArrowRow({'Code': '05Q', 'Description': 'Comlux Aviation, AG'}),\n",
              " ArrowRow({'Code': '06Q', 'Description': 'Master Top Linhas Aereas Ltd.'})]"
            ]
          },
          "metadata": {},
          "execution_count": 82
        }
      ]
    },
    {
      "cell_type": "code",
      "source": [
        "# for each airline from the 4 we took, create the Airline actor\n",
        "air = []\n",
        "for a in r:\n",
        "  air.append(Airline.remote(a['Code'], a['Description']))\n",
        "air"
      ],
      "metadata": {
        "colab": {
          "base_uri": "https://localhost:8080/"
        },
        "id": "WISn8FwRIfY4",
        "outputId": "ad6d6447-8a5d-4d00-ab2b-8e84ee1b309e"
      },
      "execution_count": null,
      "outputs": [
        {
          "output_type": "execute_result",
          "data": {
            "text/plain": [
              "[Actor(Airline, 3b81f491cafd376fa695768c01000000),\n",
              " Actor(Airline, 4e91ad408fbfc2adb7141f8e01000000),\n",
              " Actor(Airline, 557c33fda7c8349c103ca26e01000000),\n",
              " Actor(Airline, fa4e3ce99dfef5288b6b9cc601000000)]"
            ]
          },
          "metadata": {},
          "execution_count": 51
        },
        {
          "output_type": "stream",
          "name": "stderr",
          "text": [
            "2022-12-07 07:05:46,395\tWARNING worker.py:1839 -- WARNING: 16 PYTHON worker processes have been started on node: 815a248a2ff2a47f71c6d8e30bd32e4641b1f38cc5c46521f95d1adf with address: 172.28.0.12. This could be a result of using a large number of actors, or due to tasks blocked in ray.get() calls (see https://github.com/ray-project/ray/issues/3644 for some discussion of workarounds).\n"
          ]
        }
      ]
    },
    {
      "cell_type": "code",
      "source": [
        "# for each Airline actor, return the name asynchronosly\n",
        "for b in air:\n",
        "  airline_name = b.get_name.remote()\n",
        "  print(ray.get(airline_name))"
      ],
      "metadata": {
        "id": "BzqqFdsDKyp2"
      },
      "execution_count": null,
      "outputs": []
    },
    {
      "cell_type": "code",
      "source": [
        "# create a task that will count the number of flight records by airline asynchronosly\n",
        "@ray.remote\n",
        "def datacount():\n",
        "  return flights.groupby('Airline').count()"
      ],
      "metadata": {
        "id": "HbVHu2MsZrq5"
      },
      "execution_count": null,
      "outputs": []
    },
    {
      "cell_type": "code",
      "source": [
        "# create an object reference of the asynchronos job\n",
        "obj_ref = datacount.remote()"
      ],
      "metadata": {
        "id": "EymYF5s1gNbX"
      },
      "execution_count": null,
      "outputs": []
    },
    {
      "cell_type": "code",
      "source": [
        "counts = ray.get(obj_ref)"
      ],
      "metadata": {
        "colab": {
          "base_uri": "https://localhost:8080/"
        },
        "outputId": "c8836f97-6b73-47ca-fe62-fcce35197c4a",
        "id": "0chldDtRtygL"
      },
      "execution_count": null,
      "outputs": [
        {
          "output_type": "stream",
          "name": "stderr",
          "text": [
            "\u001b[2m\u001b[36m(datacount pid=7677)\u001b[0m \rShuffle Map:  20%|██        | 1/5 [00:23<01:35, 23.93s/it]\n",
            "Shuffle Map:  40%|████      | 2/5 [00:24<00:29,  9.92s/it]\n",
            "Shuffle Map:  60%|██████    | 3/5 [00:47<00:32, 16.07s/it]\n",
            "Shuffle Map:  80%|████████  | 4/5 [00:47<00:09,  9.80s/it]\n"
          ]
        }
      ]
    },
    {
      "cell_type": "code",
      "source": [
        "# execute the object reference, sort the count output by descending, then take the top 10\n",
        "top = ray.get(obj_ref).sort('count()', descending=True).take(10)"
      ],
      "metadata": {
        "id": "lH6U5gghigMC"
      },
      "execution_count": null,
      "outputs": []
    },
    {
      "cell_type": "code",
      "source": [
        "# create a task that will count the number of flight records by airline asynchronosly\n",
        "@ray.remote\n",
        "def filterCancel():\n",
        "  return flight_shards.filter(lambda x: x['Cancelled']==True)"
      ],
      "metadata": {
        "id": "GW5MlXc1ijCa"
      },
      "execution_count": null,
      "outputs": []
    },
    {
      "cell_type": "code",
      "source": [
        "cancelled = ray.get(filterCancel.remote())"
      ],
      "metadata": {
        "colab": {
          "base_uri": "https://localhost:8080/"
        },
        "id": "w5bQ_eQ2qAfU",
        "outputId": "a49175d4-fa83-4c82-f815-457110fbf08c"
      },
      "execution_count": null,
      "outputs": [
        {
          "output_type": "stream",
          "name": "stderr",
          "text": [
            "Filter:  86%|████████▌ | 86/100 [06:03<00:45,  3.25s/it]\n",
            "Filter:  87%|████████▋ | 87/100 [06:18<01:26,  6.62s/it]\n",
            "Filter:  88%|████████▊ | 88/100 [06:31<01:44,  8.68s/it]\n",
            "Filter:  20%|██        | 1/5 [02:30<10:00, 150.19s/it]\n",
            "Filter:  40%|████      | 2/5 [02:30<03:06, 62.10s/it] \n",
            "Filter:  60%|██████    | 3/5 [04:40<03:06, 93.20s/it]\n",
            "Filter:  80%|████████  | 4/5 [04:41<00:56, 56.62s/it]\n",
            "Filter:  89%|████████▉ | 89/100 [10:48<15:15, 83.25s/it]\n",
            "Filter:  90%|█████████ | 90/100 [10:55<10:03, 60.39s/it]\n",
            "Filter:  91%|█████████ | 91/100 [11:01<06:36, 44.02s/it]\n",
            "Filter:  92%|█████████▏| 92/100 [11:08<04:22, 32.78s/it]\n",
            "Filter:  93%|█████████▎| 93/100 [11:14<02:53, 24.73s/it]\n",
            "Filter:  94%|█████████▍| 94/100 [11:21<01:57, 19.51s/it]\n",
            "Filter:  95%|█████████▌| 95/100 [11:27<01:17, 15.48s/it]\n",
            "Filter:  96%|█████████▌| 96/100 [11:33<00:50, 12.61s/it]\n",
            "Filter:  97%|█████████▋| 97/100 [11:39<00:31, 10.64s/it]\n",
            "Filter:  98%|█████████▊| 98/100 [11:45<00:18,  9.23s/it]\n",
            "Filter:  99%|█████████▉| 99/100 [11:55<00:09,  9.42s/it]\n",
            "Filter: 100%|██████████| 100/100 [12:00<00:00,  7.21s/it]\n"
          ]
        },
        {
          "output_type": "stream",
          "name": "stdout",
          "text": [
            "{'FlightDate': datetime.datetime(2018, 1, 17, 0, 0), 'Airline': 'Endeavor Air Inc.', 'Origin': 'ATL', 'Dest': 'ABY', 'Cancelled': True, 'Diverted': False, 'CRSDepTime': 1037, 'DepTime': None, 'DepDelayMinutes': None, 'DepDelay': None, 'ArrTime': None, 'ArrDelayMinutes': None, 'AirTime': None, 'CRSElapsedTime': 60.0, 'ActualElapsedTime': None, 'Distance': 145.0, 'Year': 2018, 'Quarter': 1, 'Month': 1, 'DayofMonth': 17, 'DayOfWeek': 3, 'Marketing_Airline_Network': 'DL', 'Operated_or_Branded_Code_Share_Partners': 'DL_CODESHARE', 'DOT_ID_Marketing_Airline': 19790, 'IATA_Code_Marketing_Airline': 'DL', 'Flight_Number_Marketing_Airline': 3298, 'Operating_Airline': '9E', 'DOT_ID_Operating_Airline': 20363, 'IATA_Code_Operating_Airline': '9E', 'Tail_Number': 'N8972E', 'Flight_Number_Operating_Airline': 3298, 'OriginAirportID': 10397, 'OriginAirportSeqID': 1039707, 'OriginCityMarketID': 30397, 'OriginCityName': 'Atlanta, GA', 'OriginState': 'GA', 'OriginStateFips': 13, 'OriginStateName': 'Georgia', 'OriginWac': 34, 'DestAirportID': 10146, 'DestAirportSeqID': 1014602, 'DestCityMarketID': 30146, 'DestCityName': 'Albany, GA', 'DestState': 'GA', 'DestStateFips': 13, 'DestStateName': 'Georgia', 'DestWac': 34, 'DepDel15': None, 'DepartureDelayGroups': None, 'DepTimeBlk': '1000-1059', 'TaxiOut': None, 'WheelsOff': None, 'WheelsOn': None, 'TaxiIn': None, 'CRSArrTime': 1137, 'ArrDelay': None, 'ArrDel15': None, 'ArrivalDelayGroups': None, 'ArrTimeBlk': '1100-1159', 'DistanceGroup': 1, 'DivAirportLandings': 0.0, '__index_level_0__': 23}\n",
            "{'FlightDate': datetime.datetime(2018, 1, 12, 0, 0), 'Airline': 'Endeavor Air Inc.', 'Origin': 'ATL', 'Dest': 'EVV', 'Cancelled': True, 'Diverted': False, 'CRSDepTime': 939, 'DepTime': None, 'DepDelayMinutes': None, 'DepDelay': None, 'ArrTime': None, 'ArrDelayMinutes': None, 'AirTime': None, 'CRSElapsedTime': 89.0, 'ActualElapsedTime': None, 'Distance': 350.0, 'Year': 2018, 'Quarter': 1, 'Month': 1, 'DayofMonth': 12, 'DayOfWeek': 5, 'Marketing_Airline_Network': 'DL', 'Operated_or_Branded_Code_Share_Partners': 'DL_CODESHARE', 'DOT_ID_Marketing_Airline': 19790, 'IATA_Code_Marketing_Airline': 'DL', 'Flight_Number_Marketing_Airline': 3299, 'Operating_Airline': '9E', 'DOT_ID_Operating_Airline': 20363, 'IATA_Code_Operating_Airline': '9E', 'Tail_Number': 'N8928A', 'Flight_Number_Operating_Airline': 3299, 'OriginAirportID': 10397, 'OriginAirportSeqID': 1039707, 'OriginCityMarketID': 30397, 'OriginCityName': 'Atlanta, GA', 'OriginState': 'GA', 'OriginStateFips': 13, 'OriginStateName': 'Georgia', 'OriginWac': 34, 'DestAirportID': 11612, 'DestAirportSeqID': 1161206, 'DestCityMarketID': 31612, 'DestCityName': 'Evansville, IN', 'DestState': 'IN', 'DestStateFips': 18, 'DestStateName': 'Indiana', 'DestWac': 42, 'DepDel15': None, 'DepartureDelayGroups': None, 'DepTimeBlk': '0900-0959', 'TaxiOut': None, 'WheelsOff': None, 'WheelsOn': None, 'TaxiIn': None, 'CRSArrTime': 1008, 'ArrDelay': None, 'ArrDel15': None, 'ArrivalDelayGroups': None, 'ArrTimeBlk': '1000-1059', 'DistanceGroup': 2, 'DivAirportLandings': 0.0, '__index_level_0__': 49}\n",
            "{'FlightDate': datetime.datetime(2018, 1, 17, 0, 0), 'Airline': 'Endeavor Air Inc.', 'Origin': 'ATL', 'Dest': 'EVV', 'Cancelled': True, 'Diverted': False, 'CRSDepTime': 939, 'DepTime': None, 'DepDelayMinutes': None, 'DepDelay': None, 'ArrTime': None, 'ArrDelayMinutes': None, 'AirTime': None, 'CRSElapsedTime': 89.0, 'ActualElapsedTime': None, 'Distance': 350.0, 'Year': 2018, 'Quarter': 1, 'Month': 1, 'DayofMonth': 17, 'DayOfWeek': 3, 'Marketing_Airline_Network': 'DL', 'Operated_or_Branded_Code_Share_Partners': 'DL_CODESHARE', 'DOT_ID_Marketing_Airline': 19790, 'IATA_Code_Marketing_Airline': 'DL', 'Flight_Number_Marketing_Airline': 3299, 'Operating_Airline': '9E', 'DOT_ID_Operating_Airline': 20363, 'IATA_Code_Operating_Airline': '9E', 'Tail_Number': 'N8688C', 'Flight_Number_Operating_Airline': 3299, 'OriginAirportID': 10397, 'OriginAirportSeqID': 1039707, 'OriginCityMarketID': 30397, 'OriginCityName': 'Atlanta, GA', 'OriginState': 'GA', 'OriginStateFips': 13, 'OriginStateName': 'Georgia', 'OriginWac': 34, 'DestAirportID': 11612, 'DestAirportSeqID': 1161206, 'DestCityMarketID': 31612, 'DestCityName': 'Evansville, IN', 'DestState': 'IN', 'DestStateFips': 18, 'DestStateName': 'Indiana', 'DestWac': 42, 'DepDel15': None, 'DepartureDelayGroups': None, 'DepTimeBlk': '0900-0959', 'TaxiOut': None, 'WheelsOff': None, 'WheelsOn': None, 'TaxiIn': None, 'CRSArrTime': 1008, 'ArrDelay': None, 'ArrDel15': None, 'ArrivalDelayGroups': None, 'ArrTimeBlk': '1000-1059', 'DistanceGroup': 2, 'DivAirportLandings': 0.0, '__index_level_0__': 54}\n",
            "{'FlightDate': datetime.datetime(2018, 1, 4, 0, 0), 'Airline': 'Endeavor Air Inc.', 'Origin': 'ATL', 'Dest': 'EWN', 'Cancelled': True, 'Diverted': False, 'CRSDepTime': 1225, 'DepTime': None, 'DepDelayMinutes': None, 'DepDelay': None, 'ArrTime': None, 'ArrDelayMinutes': None, 'AirTime': None, 'CRSElapsedTime': 85.0, 'ActualElapsedTime': None, 'Distance': 433.0, 'Year': 2018, 'Quarter': 1, 'Month': 1, 'DayofMonth': 4, 'DayOfWeek': 4, 'Marketing_Airline_Network': 'DL', 'Operated_or_Branded_Code_Share_Partners': 'DL_CODESHARE', 'DOT_ID_Marketing_Airline': 19790, 'IATA_Code_Marketing_Airline': 'DL', 'Flight_Number_Marketing_Airline': 3301, 'Operating_Airline': '9E', 'DOT_ID_Operating_Airline': 20363, 'IATA_Code_Operating_Airline': '9E', 'Tail_Number': 'N836AY', 'Flight_Number_Operating_Airline': 3301, 'OriginAirportID': 10397, 'OriginAirportSeqID': 1039707, 'OriginCityMarketID': 30397, 'OriginCityName': 'Atlanta, GA', 'OriginState': 'GA', 'OriginStateFips': 13, 'OriginStateName': 'Georgia', 'OriginWac': 34, 'DestAirportID': 11617, 'DestAirportSeqID': 1161708, 'DestCityMarketID': 31617, 'DestCityName': 'New Bern/Morehead/Beaufort, NC', 'DestState': 'NC', 'DestStateFips': 37, 'DestStateName': 'North Carolina', 'DestWac': 36, 'DepDel15': None, 'DepartureDelayGroups': None, 'DepTimeBlk': '1200-1259', 'TaxiOut': None, 'WheelsOff': None, 'WheelsOn': None, 'TaxiIn': None, 'CRSArrTime': 1350, 'ArrDelay': None, 'ArrDel15': None, 'ArrivalDelayGroups': None, 'ArrTimeBlk': '1300-1359', 'DistanceGroup': 2, 'DivAirportLandings': 0.0, '__index_level_0__': 101}\n",
            "{'FlightDate': datetime.datetime(2018, 1, 4, 0, 0), 'Airline': 'Endeavor Air Inc.', 'Origin': 'EWN', 'Dest': 'ATL', 'Cancelled': True, 'Diverted': False, 'CRSDepTime': 1415, 'DepTime': None, 'DepDelayMinutes': None, 'DepDelay': None, 'ArrTime': None, 'ArrDelayMinutes': None, 'AirTime': None, 'CRSElapsedTime': 110.0, 'ActualElapsedTime': None, 'Distance': 433.0, 'Year': 2018, 'Quarter': 1, 'Month': 1, 'DayofMonth': 4, 'DayOfWeek': 4, 'Marketing_Airline_Network': 'DL', 'Operated_or_Branded_Code_Share_Partners': 'DL_CODESHARE', 'DOT_ID_Marketing_Airline': 19790, 'IATA_Code_Marketing_Airline': 'DL', 'Flight_Number_Marketing_Airline': 3301, 'Operating_Airline': '9E', 'DOT_ID_Operating_Airline': 20363, 'IATA_Code_Operating_Airline': '9E', 'Tail_Number': 'N836AY', 'Flight_Number_Operating_Airline': 3301, 'OriginAirportID': 11617, 'OriginAirportSeqID': 1161708, 'OriginCityMarketID': 31617, 'OriginCityName': 'New Bern/Morehead/Beaufort, NC', 'OriginState': 'NC', 'OriginStateFips': 37, 'OriginStateName': 'North Carolina', 'OriginWac': 36, 'DestAirportID': 10397, 'DestAirportSeqID': 1039707, 'DestCityMarketID': 30397, 'DestCityName': 'Atlanta, GA', 'DestState': 'GA', 'DestStateFips': 13, 'DestStateName': 'Georgia', 'DestWac': 34, 'DepDel15': None, 'DepartureDelayGroups': None, 'DepTimeBlk': '1400-1459', 'TaxiOut': None, 'WheelsOff': None, 'WheelsOn': None, 'TaxiIn': None, 'CRSArrTime': 1605, 'ArrDelay': None, 'ArrDel15': None, 'ArrivalDelayGroups': None, 'ArrTimeBlk': '1600-1659', 'DistanceGroup': 2, 'DivAirportLandings': 0.0, '__index_level_0__': 128}\n"
          ]
        }
      ]
    },
    {
      "cell_type": "code",
      "source": [
        "# get the top 10 airline and flight count\n",
        "x = []\n",
        "y = []\n",
        "for airline in top:\n",
        "  x.append(airline['Airline'])\n",
        "  y.append(airline['count()'] / 1000)"
      ],
      "metadata": {
        "id": "0KeijtrGpmI4"
      },
      "execution_count": null,
      "outputs": []
    },
    {
      "cell_type": "code",
      "source": [
        "# plot the top 10 flight counts by airline\n",
        "fig, ax = plt.subplots(figsize=(8,4))\n",
        "\n",
        "ax.bar(x, y)\n",
        "\n",
        "ax.set_ylabel('Flights (000s)')\n",
        "ax.set_title('Airline Flights 2018')\n",
        "plt.setp( ax.xaxis.get_majorticklabels(), rotation=45, ha=\"right\", rotation_mode=\"anchor\")\n",
        "plt.show()"
      ],
      "metadata": {
        "colab": {
          "base_uri": "https://localhost:8080/",
          "height": 359
        },
        "id": "k4UBQzifqZqQ",
        "outputId": "2128a0c9-fb00-4546-b05e-822c43ed6f55"
      },
      "execution_count": null,
      "outputs": [
        {
          "output_type": "display_data",
          "data": {
            "text/plain": [
              "<Figure size 576x288 with 1 Axes>"
            ],
            "image/png": "[encoded data removed]"
          },
          "metadata": {
            "needs_background": "light"
          }
        }
      ]
    },
    {
      "cell_type": "code",
      "source": [],
      "metadata": {
        "id": "catqdxPlq_pw"
      },
      "execution_count": null,
      "outputs": []
    }
  ]
}