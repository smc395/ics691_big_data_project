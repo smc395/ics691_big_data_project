{
  "nbformat": 4,
  "nbformat_minor": 0,
  "metadata": {
    "colab": {
      "provenance": [],
      "authorship_tag": "ABX9TyPzvB7yl+sct+U7PlR63bfq",
      "include_colab_link": true
    },
    "kernelspec": {
      "name": "python3",
      "display_name": "Python 3"
    },
    "language_info": {
      "name": "python"
    },
    "gpuClass": "standard",
    "accelerator": "GPU",
    "widgets": {
      "application/vnd.jupyter.widget-state+json": {
        "4bf881ca80ad44de9318df2f3e8d77f3": {
          "model_module": "@jupyter-widgets/controls",
          "model_name": "VBoxModel",
          "model_module_version": "1.5.0",
          "state": {
            "_dom_classes": [],
            "_model_module": "@jupyter-widgets/controls",
            "_model_module_version": "1.5.0",
            "_model_name": "VBoxModel",
            "_view_count": null,
            "_view_module": "@jupyter-widgets/controls",
            "_view_module_version": "1.5.0",
            "_view_name": "VBoxView",
            "box_style": "",
            "children": [
              "IPY_MODEL_076125dfd39d4317ada4fa96cef5495c",
              "IPY_MODEL_9944e53ce6b8463db38396f4cb72c53a"
            ],
            "layout": "IPY_MODEL_71cb6969160d4dd089c05ec9442d0323"
          }
        },
        "076125dfd39d4317ada4fa96cef5495c": {
          "model_module": "@jupyter-widgets/controls",
          "model_name": "HTMLModel",
          "model_module_version": "1.5.0",
          "state": {
            "_dom_classes": [],
            "_model_module": "@jupyter-widgets/controls",
            "_model_module_version": "1.5.0",
            "_model_name": "HTMLModel",
            "_view_count": null,
            "_view_module": "@jupyter-widgets/controls",
            "_view_module_version": "1.5.0",
            "_view_name": "HTMLView",
            "description": "",
            "description_tooltip": null,
            "layout": "IPY_MODEL_ea3acfca2c5c4c78bddc72056bba02e2",
            "placeholder": "​",
            "style": "IPY_MODEL_a0bfb52fadb341f8b7bb35de2a946f4e",
            "value": "<h2>Dataset</h2>"
          }
        },
        "9944e53ce6b8463db38396f4cb72c53a": {
          "model_module": "@jupyter-widgets/controls",
          "model_name": "TabModel",
          "model_module_version": "1.5.0",
          "state": {
            "_dom_classes": [],
            "_model_module": "@jupyter-widgets/controls",
            "_model_module_version": "1.5.0",
            "_model_name": "TabModel",
            "_titles": {
              "0": "Metadata",
              "1": "Schema"
            },
            "_view_count": null,
            "_view_module": "@jupyter-widgets/controls",
            "_view_module_version": "1.5.0",
            "_view_name": "TabView",
            "box_style": "",
            "children": [
              "IPY_MODEL_d389cd843cda4d3a99e991456d5ce2e2",
              "IPY_MODEL_c61dc806445f4e2dbd93ea1bc20e38ef"
            ],
            "layout": "IPY_MODEL_3713089a17ba47c285d811116e02895c",
            "selected_index": 0
          }
        },
        "71cb6969160d4dd089c05ec9442d0323": {
          "model_module": "@jupyter-widgets/base",
          "model_name": "LayoutModel",
          "model_module_version": "1.2.0",
          "state": {
            "_model_module": "@jupyter-widgets/base",
            "_model_module_version": "1.2.0",
            "_model_name": "LayoutModel",
            "_view_count": null,
            "_view_module": "@jupyter-widgets/base",
            "_view_module_version": "1.2.0",
            "_view_name": "LayoutView",
            "align_content": null,
            "align_items": null,
            "align_self": null,
            "border": null,
            "bottom": null,
            "display": null,
            "flex": null,
            "flex_flow": null,
            "grid_area": null,
            "grid_auto_columns": null,
            "grid_auto_flow": null,
            "grid_auto_rows": null,
            "grid_column": null,
            "grid_gap": null,
            "grid_row": null,
            "grid_template_areas": null,
            "grid_template_columns": null,
            "grid_template_rows": null,
            "height": null,
            "justify_content": null,
            "justify_items": null,
            "left": null,
            "margin": null,
            "max_height": null,
            "max_width": null,
            "min_height": null,
            "min_width": null,
            "object_fit": null,
            "object_position": null,
            "order": null,
            "overflow": null,
            "overflow_x": null,
            "overflow_y": null,
            "padding": null,
            "right": null,
            "top": null,
            "visibility": null,
            "width": "100%"
          }
        },
        "ea3acfca2c5c4c78bddc72056bba02e2": {
          "model_module": "@jupyter-widgets/base",
          "model_name": "LayoutModel",
          "model_module_version": "1.2.0",
          "state": {
            "_model_module": "@jupyter-widgets/base",
            "_model_module_version": "1.2.0",
            "_model_name": "LayoutModel",
            "_view_count": null,
            "_view_module": "@jupyter-widgets/base",
            "_view_module_version": "1.2.0",
            "_view_name": "LayoutView",
            "align_content": null,
            "align_items": null,
            "align_self": null,
            "border": null,
            "bottom": null,
            "display": null,
            "flex": null,
            "flex_flow": null,
            "grid_area": null,
            "grid_auto_columns": null,
            "grid_auto_flow": null,
            "grid_auto_rows": null,
            "grid_column": null,
            "grid_gap": null,
            "grid_row": null,
            "grid_template_areas": null,
            "grid_template_columns": null,
            "grid_template_rows": null,
            "height": null,
            "justify_content": null,
            "justify_items": null,
            "left": null,
            "margin": null,
            "max_height": null,
            "max_width": null,
            "min_height": null,
            "min_width": null,
            "object_fit": null,
            "object_position": null,
            "order": null,
            "overflow": null,
            "overflow_x": null,
            "overflow_y": null,
            "padding": null,
            "right": null,
            "top": null,
            "visibility": null,
            "width": null
          }
        },
        "a0bfb52fadb341f8b7bb35de2a946f4e": {
          "model_module": "@jupyter-widgets/controls",
          "model_name": "DescriptionStyleModel",
          "model_module_version": "1.5.0",
          "state": {
            "_model_module": "@jupyter-widgets/controls",
            "_model_module_version": "1.5.0",
            "_model_name": "DescriptionStyleModel",
            "_view_count": null,
            "_view_module": "@jupyter-widgets/base",
            "_view_module_version": "1.2.0",
            "_view_name": "StyleView",
            "description_width": ""
          }
        },
        "d389cd843cda4d3a99e991456d5ce2e2": {
          "model_module": "@jupyter-widgets/controls",
          "model_name": "HTMLModel",
          "model_module_version": "1.5.0",
          "state": {
            "_dom_classes": [],
            "_model_module": "@jupyter-widgets/controls",
            "_model_module_version": "1.5.0",
            "_model_name": "HTMLModel",
            "_view_count": null,
            "_view_module": "@jupyter-widgets/controls",
            "_view_module_version": "1.5.0",
            "_view_name": "HTMLView",
            "description": "",
            "description_tooltip": null,
            "layout": "IPY_MODEL_ce1af605f25c405abe59a3454227c5e6",
            "placeholder": "​",
            "style": "IPY_MODEL_ace060115ad04831939825259c0240c1",
            "value": "<div class=\"scrollableTable jp-RenderedHTMLCommon\">\n  <table>\n<thead>\n<tr><th>Field     </th><th style=\"text-align: right;\">  Value</th></tr>\n</thead>\n<tbody>\n<tr><td>num_blocks</td><td style=\"text-align: right;\">      5</td></tr>\n<tr><td>num_rows  </td><td style=\"text-align: right;\">     28</td></tr>\n</tbody>\n</table>\n</div>\n<style>\n.scrollableTable {\n  overflow-y: auto;\n  max-height: 300px;\n}\n.scrollableTable table {\n  width: 100%;\n}\n.scrollableTable table :is(th,td) {\n  text-align: left !important;\n}\n.scrollableTable th {\n  background: var(--jp-layout-color1);\n  position: sticky;\n  top: 0;\n}\n</style>\n"
          }
        },
        "c61dc806445f4e2dbd93ea1bc20e38ef": {
          "model_module": "@jupyter-widgets/controls",
          "model_name": "HTMLModel",
          "model_module_version": "1.5.0",
          "state": {
            "_dom_classes": [],
            "_model_module": "@jupyter-widgets/controls",
            "_model_module_version": "1.5.0",
            "_model_name": "HTMLModel",
            "_view_count": null,
            "_view_module": "@jupyter-widgets/controls",
            "_view_module_version": "1.5.0",
            "_view_name": "HTMLView",
            "description": "",
            "description_tooltip": null,
            "layout": "IPY_MODEL_8e5c3e1071174166b0a977d8d71ce0c6",
            "placeholder": "​",
            "style": "IPY_MODEL_8b4934d536304cc4b437f5e88e9300dc",
            "value": "<div class=\"scrollableTable jp-RenderedHTMLCommon\">\n  <table>\n<thead>\n<tr><th>Name   </th><th>Type  </th></tr>\n</thead>\n<tbody>\n<tr><td>Airline</td><td>string</td></tr>\n<tr><td>count()</td><td>int64 </td></tr>\n</tbody>\n</table>\n</div>\n<style>\n.scrollableTable {\n  overflow-y: auto;\n  max-height: 300px;\n}\n.scrollableTable table {\n  width: 100%;\n}\n.scrollableTable table :is(th,td) {\n  text-align: left !important;\n}\n.scrollableTable th {\n  background: var(--jp-layout-color1);\n  position: sticky;\n  top: 0;\n}\n</style>\n"
          }
        },
        "3713089a17ba47c285d811116e02895c": {
          "model_module": "@jupyter-widgets/base",
          "model_name": "LayoutModel",
          "model_module_version": "1.2.0",
          "state": {
            "_model_module": "@jupyter-widgets/base",
            "_model_module_version": "1.2.0",
            "_model_name": "LayoutModel",
            "_view_count": null,
            "_view_module": "@jupyter-widgets/base",
            "_view_module_version": "1.2.0",
            "_view_name": "LayoutView",
            "align_content": null,
            "align_items": null,
            "align_self": null,
            "border": null,
            "bottom": null,
            "display": null,
            "flex": null,
            "flex_flow": null,
            "grid_area": null,
            "grid_auto_columns": null,
            "grid_auto_flow": null,
            "grid_auto_rows": null,
            "grid_column": null,
            "grid_gap": null,
            "grid_row": null,
            "grid_template_areas": null,
            "grid_template_columns": null,
            "grid_template_rows": null,
            "height": null,
            "justify_content": null,
            "justify_items": null,
            "left": null,
            "margin": null,
            "max_height": null,
            "max_width": null,
            "min_height": null,
            "min_width": null,
            "object_fit": null,
            "object_position": null,
            "order": null,
            "overflow": null,
            "overflow_x": null,
            "overflow_y": null,
            "padding": null,
            "right": null,
            "top": null,
            "visibility": null,
            "width": null
          }
        },
        "ce1af605f25c405abe59a3454227c5e6": {
          "model_module": "@jupyter-widgets/base",
          "model_name": "LayoutModel",
          "model_module_version": "1.2.0",
          "state": {
            "_model_module": "@jupyter-widgets/base",
            "_model_module_version": "1.2.0",
            "_model_name": "LayoutModel",
            "_view_count": null,
            "_view_module": "@jupyter-widgets/base",
            "_view_module_version": "1.2.0",
            "_view_name": "LayoutView",
            "align_content": null,
            "align_items": null,
            "align_self": null,
            "border": null,
            "bottom": null,
            "display": null,
            "flex": null,
            "flex_flow": null,
            "grid_area": null,
            "grid_auto_columns": null,
            "grid_auto_flow": null,
            "grid_auto_rows": null,
            "grid_column": null,
            "grid_gap": null,
            "grid_row": null,
            "grid_template_areas": null,
            "grid_template_columns": null,
            "grid_template_rows": null,
            "height": null,
            "justify_content": null,
            "justify_items": null,
            "left": null,
            "margin": null,
            "max_height": null,
            "max_width": null,
            "min_height": null,
            "min_width": null,
            "object_fit": null,
            "object_position": null,
            "order": null,
            "overflow": null,
            "overflow_x": null,
            "overflow_y": null,
            "padding": null,
            "right": null,
            "top": null,
            "visibility": null,
            "width": null
          }
        },
        "ace060115ad04831939825259c0240c1": {
          "model_module": "@jupyter-widgets/controls",
          "model_name": "DescriptionStyleModel",
          "model_module_version": "1.5.0",
          "state": {
            "_model_module": "@jupyter-widgets/controls",
            "_model_module_version": "1.5.0",
            "_model_name": "DescriptionStyleModel",
            "_view_count": null,
            "_view_module": "@jupyter-widgets/base",
            "_view_module_version": "1.2.0",
            "_view_name": "StyleView",
            "description_width": ""
          }
        },
        "8e5c3e1071174166b0a977d8d71ce0c6": {
          "model_module": "@jupyter-widgets/base",
          "model_name": "LayoutModel",
          "model_module_version": "1.2.0",
          "state": {
            "_model_module": "@jupyter-widgets/base",
            "_model_module_version": "1.2.0",
            "_model_name": "LayoutModel",
            "_view_count": null,
            "_view_module": "@jupyter-widgets/base",
            "_view_module_version": "1.2.0",
            "_view_name": "LayoutView",
            "align_content": null,
            "align_items": null,
            "align_self": null,
            "border": null,
            "bottom": null,
            "display": null,
            "flex": null,
            "flex_flow": null,
            "grid_area": null,
            "grid_auto_columns": null,
            "grid_auto_flow": null,
            "grid_auto_rows": null,
            "grid_column": null,
            "grid_gap": null,
            "grid_row": null,
            "grid_template_areas": null,
            "grid_template_columns": null,
            "grid_template_rows": null,
            "height": null,
            "justify_content": null,
            "justify_items": null,
            "left": null,
            "margin": null,
            "max_height": null,
            "max_width": null,
            "min_height": null,
            "min_width": null,
            "object_fit": null,
            "object_position": null,
            "order": null,
            "overflow": null,
            "overflow_x": null,
            "overflow_y": null,
            "padding": null,
            "right": null,
            "top": null,
            "visibility": null,
            "width": null
          }
        },
        "8b4934d536304cc4b437f5e88e9300dc": {
          "model_module": "@jupyter-widgets/controls",
          "model_name": "DescriptionStyleModel",
          "model_module_version": "1.5.0",
          "state": {
            "_model_module": "@jupyter-widgets/controls",
            "_model_module_version": "1.5.0",
            "_model_name": "DescriptionStyleModel",
            "_view_count": null,
            "_view_module": "@jupyter-widgets/base",
            "_view_module_version": "1.2.0",
            "_view_name": "StyleView",
            "description_width": ""
          }
        }
      }
    }
  },
  "cells": [
    {
      "cell_type": "markdown",
      "metadata": {
        "id": "view-in-github",
        "colab_type": "text"
      },
      "source": [
        "<a href=\"https://colab.research.google.com/github/smc395/ics691_big_data_project/blob/main/Ray_Tutorial.ipynb\" target=\"_parent\"><img src=\"https://colab.research.google.com/assets/colab-badge.svg\" alt=\"Open In Colab\"/></a>"
      ]
    },
    {
      "cell_type": "markdown",
      "source": [
        "# Project Introduction\n",
        "This tutorial is for ICS691 Big Data Analytics Fall 2022 semester project. I will be evaluating [Ray](https://www.ray.io/), an open-source unified compute framework.\n",
        "\n",
        "## Dataset\n",
        "The dataset that I will be using in this project is the Flight Delay dataset from Kaggle. It contains flight data from January 2018 to July 2022. In addition to the flight data, the dataset contains `Airlines.csv`, a CSV that contains the [IATA](https://www.iata.org/en/publications/directories/code-search/) code and name for 1,570 airlines.The flight data is stored in the Apache parquet format.\n",
        "\n",
        "## Big Data Justification\n",
        "This is a big data project because the parquet dataset files themselves are roughly 200 MB each and taken together would be 1GB. Processing this entire dataset in RAM would be slow and the dataset authors seemingly update this dataset every couple of months meaning that as time goes on, the amount of data will grow. Repeating this analysis overtime would therefore need resources and/or methods to perform this analysis at scale and speed.\n",
        "\n",
        "## Project Goal\n",
        "The goal of this tutorial will be to use Ray to do some exploratory data analysis and visualization for different airlines. It will demonstrate some of the key concepts within the Ray Dataset library and Ray Core of this framework."
      ],
      "metadata": {
        "id": "lXpMYp9MCbJZ"
      }
    },
    {
      "cell_type": "markdown",
      "source": [
        "# References\n",
        "1. [Ray Documentation](https://docs.ray.io/en/latest/ray-overview/index.html)\n",
        "2. [Downloading Kaggle datasets directly into Google Colab](https://towardsdatascience.com/downloading-kaggle-datasets-directly-into-google-colab-c8f0f407d73a)\n",
        "3. [Kaggle Flight Delay Dataset](https://www.kaggle.com/datasets/robikscube/flight-delay-dataset-20182022)\n",
        "4. [Apache Parquet](https://parquet.apache.org/docs/overview/motivation/)\n",
        "5. [Apache Arrow](https://arrow.apache.org/docs/format/Columnar.html)\n",
        "6. [Moritz et al. - Ray Paper](https://www.usenix.org/system/files/osdi18-moritz.pdf)"
      ],
      "metadata": {
        "id": "lHQOeh6GArly"
      }
    },
    {
      "cell_type": "markdown",
      "source": [
        "# Getting Started\n",
        "To start we will install the necessary libraries and import the necessary dependencies to do the analysis."
      ],
      "metadata": {
        "id": "AGxqxvrPKo6n"
      }
    },
    {
      "cell_type": "code",
      "source": [
        "# Install dependencies\n",
        "%%capture --no-display\n",
        "!pip install -U \"pyarrow<7.0.0\"\n",
        "!pip install ray\n",
        "!pip install kaggle"
      ],
      "metadata": {
        "id": "H-pbmAmH-GlN"
      },
      "execution_count": 1,
      "outputs": []
    },
    {
      "cell_type": "code",
      "execution_count": 2,
      "metadata": {
        "id": "LknzqHVu76pO"
      },
      "outputs": [],
      "source": [
        "# Import dependencies and create Ray cluster\n",
        "import os\n",
        "import pyarrow as pa\n",
        "import pyarrow.compute as pc\n",
        "import matplotlib.pyplot as plt\n",
        "import ray"
      ]
    },
    {
      "cell_type": "code",
      "source": [
        "# Determine how many CPUs we have to work with and distribute across\n",
        "os.cpu_count()"
      ],
      "metadata": {
        "colab": {
          "base_uri": "https://localhost:8080/"
        },
        "id": "iDa7XBiCbIDi",
        "outputId": "31e36d89-7ab0-453c-b3e8-1f8d3a08a6d9"
      },
      "execution_count": null,
      "outputs": [
        {
          "output_type": "execute_result",
          "data": {
            "text/plain": [
              "2"
            ]
          },
          "metadata": {},
          "execution_count": 13
        }
      ]
    },
    {
      "cell_type": "code",
      "source": [
        "# Determine if and what type of GPU we have to work with\n",
        "!nvidia-smi -L"
      ],
      "metadata": {
        "colab": {
          "base_uri": "https://localhost:8080/"
        },
        "id": "-AqbwbpGwTxG",
        "outputId": "f23f7ac9-6a5c-474a-e87d-59c04a24feb8"
      },
      "execution_count": null,
      "outputs": [
        {
          "output_type": "stream",
          "name": "stdout",
          "text": [
            "GPU 0: Tesla T4 (UUID: GPU-5bb87bd1-3f50-d07e-acb5-8561116d037c)\n"
          ]
        }
      ]
    },
    {
      "cell_type": "markdown",
      "source": [
        "## Import Dataset to Colab\n",
        "We will download the dataset to Google Drive using the Kaggle API so that the dataset can be used in this Jupyter notebook."
      ],
      "metadata": {
        "id": "9WZb1ti8ZlNz"
      }
    },
    {
      "cell_type": "code",
      "source": [
        "# Create a folder named kaggle in your Google Drive and place the kaggle.json\n",
        "# from your Kaggle account before runnig this code block.\n",
        "os.environ['KAGGLE_CONFIG_DIR'] = '/gdrive/MyDrive/kaggle'\n",
        "os.chdir('/gdrive/MyDrive/kaggle')"
      ],
      "metadata": {
        "colab": {
          "base_uri": "https://localhost:8080/",
          "height": 35
        },
        "id": "3ulBsR-WqZcf",
        "outputId": "99fafd49-3d81-4657-e18e-18ba6297e444"
      },
      "execution_count": null,
      "outputs": [
        {
          "output_type": "execute_result",
          "data": {
            "text/plain": [
              "'/content'"
            ],
            "application/vnd.google.colaboratory.intrinsic+json": {
              "type": "string"
            }
          },
          "metadata": {},
          "execution_count": 4
        }
      ]
    },
    {
      "cell_type": "code",
      "source": [
        "# This will connect the Colab notebook to your Google Drive account\n",
        "from google.colab import drive\n",
        "drive.mount('/gdrive')"
      ],
      "metadata": {
        "id": "A2PjM2_CdIHt"
      },
      "execution_count": null,
      "outputs": []
    },
    {
      "cell_type": "code",
      "source": [
        "# Download the dataset to Google Drive kaggle folder.\n",
        "# We do this because Colab times out after 30 min wiping all data.\n",
        "!kaggle datasets download -d robikscube/flight-delay-dataset-20182022"
      ],
      "metadata": {
        "colab": {
          "base_uri": "https://localhost:8080/"
        },
        "id": "VxmX0FK9sGOf",
        "outputId": "46900632-946e-4c92-e11e-11a0db878d76"
      },
      "execution_count": null,
      "outputs": [
        {
          "output_type": "stream",
          "name": "stdout",
          "text": [
            "Downloading flight-delay-dataset-20182022.zip to /gdrive/MyDrive/kaggle\n",
            "100% 3.72G/3.73G [00:28<00:00, 170MB/s]\n",
            "100% 3.73G/3.73G [00:28<00:00, 142MB/s]\n"
          ]
        }
      ]
    },
    {
      "cell_type": "code",
      "source": [
        "# Set the path of where the zipped dataset is located\n",
        "zip_path = '/gdrive/MyDrive/kaggle/flight-delay-dataset-20182022.zip'"
      ],
      "metadata": {
        "id": "R2WScX2EwJZo"
      },
      "execution_count": null,
      "outputs": []
    },
    {
      "cell_type": "code",
      "source": [
        "# Create a flight_data folder in Google Colab if it does not already exist to hold the data files.\n",
        "# Copy the zip folder from your Google Drive to Colab.\n",
        "if not os.path.exists('/content/flight_data'):\n",
        "  os.mkdir('/content/flight_data')\n",
        "os.chdir('/content/flight_data')\n",
        "!cp '{zip_path}' ."
      ],
      "metadata": {
        "id": "YaBGmEsOu7ip"
      },
      "execution_count": null,
      "outputs": []
    },
    {
      "cell_type": "code",
      "source": [
        "# Unzip the dataset in Colab. This will take some time.\n",
        "# It is recommended to delete the raw folder and keep only one file format of the data to save disk space.\n",
        "!unzip -q 'flight-delay-dataset-20182022.zip'"
      ],
      "metadata": {
        "id": "vSbtzR9UxfCO"
      },
      "execution_count": null,
      "outputs": []
    },
    {
      "cell_type": "markdown",
      "source": [
        "# Ray\n",
        "## Introduction\n",
        "Ray [\\[1\\]](https://docs.ray.io/en/latest/ray-overview/index.html) was designed to help address challenges that come with the scale and the need for efficient processing of large amounts of data for reinforcement learning applications [\\[6\\]](https://www.usenix.org/system/files/osdi18-moritz.pdf). It was built for Python, but also currently suppors Java. Ray has different libraries to handle different steps within the machine learning pipeline (loading data, wrangling it, training a model, model validation, and serving the model). Ray is currently working on toolkit to unify these steps end-to-end, however each library can be used on its own. \n",
        "\n",
        "## Programming Model\n",
        "Ray is able to scale and run in a computationally efficient way because of the programming model it employs. This model is comprises Tasks, Actors, and Objects to accomplish computations in a distributed manner. These three are what make up Ray Core.\n",
        "\n",
        "Using Ray, we can scale programs from a laptop to a cluster without needing to modify our program as Ray will handle the parallelization and repartitioning behind the scenes on a cluster such as Amazon Web Services (AWS), Google Cloud Platform (GCP), and Kubernetes.\n",
        "\n",
        "## Starting Ray\n",
        "To start using Ray, we first have to initialize a Ray cluster by calling `init()`. This only needs to be called once during the entire usage of Ray. To restart the Ray cluster, call `shutdown()`."
      ],
      "metadata": {
        "id": "3-_jG5fnrQ9w"
      }
    },
    {
      "cell_type": "code",
      "source": [
        "ray.init()"
      ],
      "metadata": {
        "id": "gisebKXos7RG",
        "colab": {
          "base_uri": "https://localhost:8080/",
          "height": 79
        },
        "outputId": "2035c679-cf5a-49cb-cf42-82582d293255"
      },
      "execution_count": 3,
      "outputs": [
        {
          "output_type": "stream",
          "name": "stderr",
          "text": [
            "2022-12-11 02:55:01,243\tINFO worker.py:1528 -- Started a local Ray instance.\n"
          ]
        },
        {
          "output_type": "execute_result",
          "data": {
            "text/plain": [
              "RayContext(dashboard_url='', python_version='3.8.16', ray_version='2.1.0', ray_commit='be49bde7ee4f6adb3f8710aee0665c27f9f0bb62', address_info={'node_ip_address': '172.28.0.12', 'raylet_ip_address': '172.28.0.12', 'redis_address': None, 'object_store_address': '/tmp/ray/session_2022-12-11_02-54-58_615584_76/sockets/plasma_store', 'raylet_socket_name': '/tmp/ray/session_2022-12-11_02-54-58_615584_76/sockets/raylet', 'webui_url': '', 'session_dir': '/tmp/ray/session_2022-12-11_02-54-58_615584_76', 'metrics_export_port': 62410, 'gcs_address': '172.28.0.12:43260', 'address': '172.28.0.12:43260', 'dashboard_agent_listen_port': 52365, 'node_id': 'eef43a0d738f08bc619c0625c4d4fa75594932756ba9789ae4f5f3ad'})"
            ],
            "text/html": [
              "<div>\n",
              "    <div style=\"margin-left: 50px;display: flex;flex-direction: row;align-items: center\">\n",
              "        <h3 style=\"color: var(--jp-ui-font-color0)\">Ray</h3>\n",
              "        <svg version=\"1.1\" id=\"ray\" width=\"3em\" viewBox=\"0 0 144.5 144.6\" style=\"margin-left: 3em;margin-right: 3em\">\n",
              "            <g id=\"layer-1\">\n",
              "                <path fill=\"#00a2e9\" class=\"st0\" d=\"M97.3,77.2c-3.8-1.1-6.2,0.9-8.3,5.1c-3.5,6.8-9.9,9.9-17.4,9.6S58,88.1,54.8,81.2c-1.4-3-3-4-6.3-4.1\n",
              "                    c-5.6-0.1-9.9,0.1-13.1,6.4c-3.8,7.6-13.6,10.2-21.8,7.6C5.2,88.4-0.4,80.5,0,71.7c0.1-8.4,5.7-15.8,13.8-18.2\n",
              "                    c8.4-2.6,17.5,0.7,22.3,8c1.3,1.9,1.3,5.2,3.6,5.6c3.9,0.6,8,0.2,12,0.2c1.8,0,1.9-1.6,2.4-2.8c3.5-7.8,9.7-11.8,18-11.9\n",
              "                    c8.2-0.1,14.4,3.9,17.8,11.4c1.3,2.8,2.9,3.6,5.7,3.3c1-0.1,2,0.1,3,0c2.8-0.5,6.4,1.7,8.1-2.7s-2.3-5.5-4.1-7.5\n",
              "                    c-5.1-5.7-10.9-10.8-16.1-16.3C84,38,81.9,37.1,78,38.3C66.7,42,56.2,35.7,53,24.1C50.3,14,57.3,2.8,67.7,0.5\n",
              "                    C78.4-2,89,4.7,91.5,15.3c0.1,0.3,0.1,0.5,0.2,0.8c0.7,3.4,0.7,6.9-0.8,9.8c-1.7,3.2-0.8,5,1.5,7.2c6.7,6.5,13.3,13,19.8,19.7\n",
              "                    c1.8,1.8,3,2.1,5.5,1.2c9.1-3.4,17.9-0.6,23.4,7c4.8,6.9,4.6,16.1-0.4,22.9c-5.4,7.2-14.2,9.9-23.1,6.5c-2.3-0.9-3.5-0.6-5.1,1.1\n",
              "                    c-6.7,6.9-13.6,13.7-20.5,20.4c-1.8,1.8-2.5,3.2-1.4,5.9c3.5,8.7,0.3,18.6-7.7,23.6c-7.9,5-18.2,3.8-24.8-2.9\n",
              "                    c-6.4-6.4-7.4-16.2-2.5-24.3c4.9-7.8,14.5-11,23.1-7.8c3,1.1,4.7,0.5,6.9-1.7C91.7,98.4,98,92.3,104.2,86c1.6-1.6,4.1-2.7,2.6-6.2\n",
              "                    c-1.4-3.3-3.8-2.5-6.2-2.6C99.8,77.2,98.9,77.2,97.3,77.2z M72.1,29.7c5.5,0.1,9.9-4.3,10-9.8c0-0.1,0-0.2,0-0.3\n",
              "                    C81.8,14,77,9.8,71.5,10.2c-5,0.3-9,4.2-9.3,9.2c-0.2,5.5,4,10.1,9.5,10.3C71.8,29.7,72,29.7,72.1,29.7z M72.3,62.3\n",
              "                    c-5.4-0.1-9.9,4.2-10.1,9.7c0,0.2,0,0.3,0,0.5c0.2,5.4,4.5,9.7,9.9,10c5.1,0.1,9.9-4.7,10.1-9.8c0.2-5.5-4-10-9.5-10.3\n",
              "                    C72.6,62.3,72.4,62.3,72.3,62.3z M115,72.5c0.1,5.4,4.5,9.7,9.8,9.9c5.6-0.2,10-4.8,10-10.4c-0.2-5.4-4.6-9.7-10-9.7\n",
              "                    c-5.3-0.1-9.8,4.2-9.9,9.5C115,72.1,115,72.3,115,72.5z M19.5,62.3c-5.4,0.1-9.8,4.4-10,9.8c-0.1,5.1,5.2,10.4,10.2,10.3\n",
              "                    c5.6-0.2,10-4.9,9.8-10.5c-0.1-5.4-4.5-9.7-9.9-9.6C19.6,62.3,19.5,62.3,19.5,62.3z M71.8,134.6c5.9,0.2,10.3-3.9,10.4-9.6\n",
              "                    c0.5-5.5-3.6-10.4-9.1-10.8c-5.5-0.5-10.4,3.6-10.8,9.1c0,0.5,0,0.9,0,1.4c-0.2,5.3,4,9.8,9.3,10\n",
              "                    C71.6,134.6,71.7,134.6,71.8,134.6z\"/>\n",
              "            </g>\n",
              "        </svg>\n",
              "        <table>\n",
              "            <tr>\n",
              "                <td style=\"text-align: left\"><b>Python version:</b></td>\n",
              "                <td style=\"text-align: left\"><b>3.8.16</b></td>\n",
              "            </tr>\n",
              "            <tr>\n",
              "                <td style=\"text-align: left\"><b>Ray version:</b></td>\n",
              "                <td style=\"text-align: left\"><b> 2.1.0</b></td>\n",
              "            </tr>\n",
              "            \n",
              "        </table>\n",
              "    </div>\n",
              "</div>\n"
            ]
          },
          "metadata": {},
          "execution_count": 3
        }
      ]
    },
    {
      "cell_type": "code",
      "source": [
        "# check that the ray cluster has properly initialized\n",
        "assert ray.is_initialized"
      ],
      "metadata": {
        "id": "ZIkLgd5btFYp"
      },
      "execution_count": 4,
      "outputs": []
    },
    {
      "cell_type": "markdown",
      "source": [
        "## Tasks\n",
        "Tasks are functions that can be executed in a distributed manner. This can be accomplished by using the function decorator `@ray.remote`. The function will now be a remote function that can be run on clusters. For example,"
      ],
      "metadata": {
        "id": "ebw06BGWF0PC"
      }
    },
    {
      "cell_type": "code",
      "source": [
        "# Use the `@ray.remote` decorator to turn any function into a remote function\n",
        "@ray.remote\n",
        "def foo(a):\n",
        "  return a"
      ],
      "metadata": {
        "id": "M5YjSR6UFHT9"
      },
      "execution_count": 5,
      "outputs": []
    },
    {
      "cell_type": "markdown",
      "source": [
        "To run the function, run `function.remote(args)` and pass in any arguments into the `function` into `remote()`."
      ],
      "metadata": {
        "id": "srhELml7Hc8J"
      }
    },
    {
      "cell_type": "code",
      "source": [
        "bar = foo.remote('hello world')\n",
        "bar"
      ],
      "metadata": {
        "colab": {
          "base_uri": "https://localhost:8080/"
        },
        "id": "pHZ4YONPFMhG",
        "outputId": "e6ee66da-f7ab-4157-cb79-a909b930a190"
      },
      "execution_count": 7,
      "outputs": [
        {
          "output_type": "execute_result",
          "data": {
            "text/plain": [
              "ObjectRef(c8ef45ccd0112571ffffffffffffffffffffffff0100000001000000)"
            ]
          },
          "metadata": {},
          "execution_count": 7
        }
      ]
    },
    {
      "cell_type": "markdown",
      "source": [
        "## Objects\n",
        "As you can see, `remote()` returns an `ObjectRef`. This is a future remote object, meaning that something will be returned from Ray. It is essentially a pointer or a unique ID that can be used to refer to a remote object without seeing its value. It is a similar concept as JavaScript [Promises](https://developer.mozilla.org/en-US/docs/Web/JavaScript/Reference/Global_Objects/Promise).\n",
        "\n",
        "Remote objects can be stored anywhere in a Ray cluster and cached in Ray’s distributed shared-memory object store, and there is one object store per node in the cluster. In the cluster setting, a remote object can live on one or many nodes, independent of who holds the object ref(s) [\\[1\\]](https://docs.ray.io/en/latest/ray-core/objects.html#objects-in-ray).\n",
        "\n",
        "To return the value, we use `get()` on the remote object."
      ],
      "metadata": {
        "id": "TQdmAH9KIhEK"
      }
    },
    {
      "cell_type": "code",
      "source": [
        "print(ray.get(bar))"
      ],
      "metadata": {
        "colab": {
          "base_uri": "https://localhost:8080/"
        },
        "id": "8saUMBYhLXAj",
        "outputId": "e62e6d50-095b-4b2e-901c-593f7b3af83c"
      },
      "execution_count": 9,
      "outputs": [
        {
          "output_type": "stream",
          "name": "stdout",
          "text": [
            "hello world\n"
          ]
        }
      ]
    },
    {
      "cell_type": "markdown",
      "source": [
        "# Reading Parquet Dataset\n",
        "## What is Parquet?\n",
        "Apache Parquet is a data storage format where data is stored as columns instead of rows. For example, in a row based stoarge, you would see a table as names and ages as:\n",
        "\n",
        "| Name | Age |\n",
        "|------|-----|\n",
        "| John | 18  | \n",
        "| Jane | 20  |\n",
        "| Joe  | 21  |\n",
        "\n",
        "Using parquet, the data will be stored as such:\n",
        "\n",
        "|   |   |   |   |   |\n",
        "|------|------|------|-----|---|\n",
        "| Name | John | Jane | Joe |   |\n",
        "| Age  | 18   | 20   | 21  |   |\n",
        "\n",
        "Storing data as columnar can help with analysis since when loading the data into memory for analysis, you can keep one continous block of memory (leading to more efficient reads). In addition, parquet is built to support compression and encoding efficiently.\n",
        "\n",
        "## Columns from Flight Dataset Used\n",
        "For the analysis, we will be using these columns\n",
        "*   Year\n",
        "*   Quarter (1-4)\n",
        "*   Month\n",
        "*   DayofWeek\n",
        "*   FlightDate (yyymmdd)\n",
        "*   Operating_Airline (aka Unique Carrier Code)\n",
        "*   Airline (Airline name)\n",
        "*   Cancelled (1=Yes, 0=No)\n",
        "*   Diverted  (1=Yes, 0=No)\n",
        "*   DepDelay (Difference in minutes between scheduled and actual departure time. Early departures show negative numbers.)\n",
        "*   ArrDelay (Difference in minutes between scheduled and actual arrival time. Early arrivals show negative numbers.)\n",
        "*   Dest (Destination airport)\n",
        "*   Origin (Origin airport)\n",
        "\n"
      ],
      "metadata": {
        "id": "LkFoHXSpYX6X"
      }
    },
    {
      "cell_type": "code",
      "source": [
        "#parquet_file_paths = [\n",
        "#'/content/flight_data/Combined_Flights_2018.parquet'\n",
        "#,'/content/flight_data/Combined_Flights_2019.parquet'\n",
        "#,'/content/flight_data/Combined_Flights_2020.parquet'\n",
        "#,'/content/flight_data/Combined_Flights_2021.parquet'\n",
        "#,'/content/flight_data/Combined_Flights_2022.parquet'\n",
        "#]"
      ],
      "metadata": {
        "colab": {
          "base_uri": "https://localhost:8080/"
        },
        "id": "W_hMkSpEyFXp",
        "outputId": "0977b9f1-f8cc-44f5-a3ea-e1b7c5acecbe"
      },
      "execution_count": null,
      "outputs": [
        {
          "output_type": "execute_result",
          "data": {
            "text/plain": [
              "['Combined_Flights_2021.csv',\n",
              " 'Combined_Flights_2018.csv',\n",
              " 'Airlines.csv',\n",
              " 'Combined_Flights_2020.csv',\n",
              " 'raw',\n",
              " 'readme.md',\n",
              " 'Combined_Flights_2019.csv',\n",
              " 'Combined_Flights_2018.parquet',\n",
              " 'Combined_Flights_2021.parquet',\n",
              " 'Combined_Flights_2019.parquet',\n",
              " 'Combined_Flights_2022.parquet',\n",
              " '.ipynb_checkpoints',\n",
              " 'Combined_Flights_2020.parquet',\n",
              " 'flight-delay-dataset-20182022.zip',\n",
              " 'readme.html',\n",
              " 'Combined_Flights_2022.csv']"
            ]
          },
          "metadata": {},
          "execution_count": 49
        }
      ]
    },
    {
      "cell_type": "markdown",
      "source": [],
      "metadata": {
        "id": "aSeMgnzLF7cr"
      }
    },
    {
      "cell_type": "code",
      "source": [
        "airlines = ray.data.read_csv('/content/flight_data/Airlines.csv')"
      ],
      "metadata": {
        "id": "dWrYl_hyFlp0"
      },
      "execution_count": null,
      "outputs": []
    },
    {
      "cell_type": "code",
      "source": [
        "ds = ray.data.read_parquet([\n",
        "    \"s3://anonymous@air-example-data/ursa-labs-taxi-data/downsampled_2009_01_data.parquet\",\n",
        "    \"s3://anonymous@air-example-data/ursa-labs-taxi-data/downsampled_2009_02_data.parquet\"\n",
        "])"
      ],
      "metadata": {
        "colab": {
          "base_uri": "https://localhost:8080/"
        },
        "id": "hTqrVqcC-Are",
        "outputId": "1b281f59-79cb-44ef-ef38-24e834eb8432"
      },
      "execution_count": null,
      "outputs": [
        {
          "output_type": "stream",
          "name": "stderr",
          "text": [
            "Parquet Files Sample:   0%|          | 0/2 [00:00<?, ?it/s]\n",
            "Parquet Files Sample:  50%|█████     | 1/2 [00:07<00:07,  7.11s/it]\n",
            "Parquet Files Sample: 100%|██████████| 2/2 [00:07<00:00,  3.80s/it]\n"
          ]
        }
      ]
    },
    {
      "cell_type": "code",
      "source": [
        "flight_columns = ['Operating_Airline', 'Airline', 'Year', 'Quarter', 'Month'\n",
        ", 'DayofWeek', 'FlightDate', 'Cancelled', 'Diverted', 'DepDelay', 'ArrDelay'\n",
        ", 'Dest', 'Origin']"
      ],
      "metadata": {
        "id": "wUVdz4PMaQEi"
      },
      "execution_count": null,
      "outputs": []
    },
    {
      "cell_type": "code",
      "source": [
        "# Read in flight data in parallel\n",
        "#flights = ray.data.read_parquet(parquet_file_paths, parallelism=5).repartition(5)\n",
        "flights = ray.data.read_parquet(paths='/content/flight_data/Combined_Flights_2018.parquet', columns=flight_columns, parallelism=2).repartition(2)"
      ],
      "metadata": {
        "id": "GC40He2mzyp6"
      },
      "execution_count": null,
      "outputs": []
    },
    {
      "cell_type": "code",
      "source": [
        "@ray.remote\n",
        "def read_flight_parquet(file_path: str, columns: list):\n",
        "  flight_dataset = ray.data.read_parquet(paths=file_path, columns=columns, parallelism=2).repartition(2)\n",
        "  # this will return a future\n",
        "  return flight_dataset"
      ],
      "metadata": {
        "id": "CDF4hI32ky0O"
      },
      "execution_count": null,
      "outputs": []
    },
    {
      "cell_type": "code",
      "source": [
        "flights_objref = read_flight_parquet.remote('/content/flight_data/Combined_Flights_2018.parquet', flight_columns)"
      ],
      "metadata": {
        "id": "PTitJZV5lSzS"
      },
      "execution_count": null,
      "outputs": []
    },
    {
      "cell_type": "code",
      "source": [
        "flights.count()"
      ],
      "metadata": {
        "colab": {
          "base_uri": "https://localhost:8080/"
        },
        "id": "DkiMw_3Nz9wB",
        "outputId": "6f250dee-7c1c-46ae-8b07-6293d7899b1c"
      },
      "execution_count": null,
      "outputs": [
        {
          "output_type": "execute_result",
          "data": {
            "text/plain": [
              "5689512"
            ]
          },
          "metadata": {},
          "execution_count": 5
        }
      ]
    },
    {
      "cell_type": "code",
      "source": [
        "flights.groupby('Operating_Airline').count()"
      ],
      "metadata": {
        "colab": {
          "base_uri": "https://localhost:8080/",
          "height": 285,
          "referenced_widgets": [
            "4bf881ca80ad44de9318df2f3e8d77f3",
            "076125dfd39d4317ada4fa96cef5495c",
            "9944e53ce6b8463db38396f4cb72c53a",
            "71cb6969160d4dd089c05ec9442d0323",
            "ea3acfca2c5c4c78bddc72056bba02e2",
            "a0bfb52fadb341f8b7bb35de2a946f4e",
            "d389cd843cda4d3a99e991456d5ce2e2",
            "c61dc806445f4e2dbd93ea1bc20e38ef",
            "3713089a17ba47c285d811116e02895c",
            "ce1af605f25c405abe59a3454227c5e6",
            "ace060115ad04831939825259c0240c1",
            "8e5c3e1071174166b0a977d8d71ce0c6",
            "8b4934d536304cc4b437f5e88e9300dc"
          ]
        },
        "id": "4GaTUdFZ05z_",
        "outputId": "6fa49fa5-d6fc-490c-ed3f-d72abc32c2b9"
      },
      "execution_count": null,
      "outputs": [
        {
          "output_type": "stream",
          "name": "stderr",
          "text": [
            "Sort Sample: 100%|██████████| 5/5 [00:01<00:00,  2.56it/s]\n",
            "Shuffle Map: 100%|██████████| 5/5 [00:47<00:00,  9.41s/it]\n",
            "Shuffle Reduce: 100%|██████████| 5/5 [00:00<00:00, 11.75it/s]\n"
          ]
        },
        {
          "output_type": "display_data",
          "data": {
            "text/plain": [
              "VBox(children=(HTML(value='<h2>Dataset</h2>'), Tab(children=(HTML(value='<div class=\"scrollableTable jp-Render…"
            ],
            "application/vnd.jupyter.widget-view+json": {
              "version_major": 2,
              "version_minor": 0,
              "model_id": "4bf881ca80ad44de9318df2f3e8d77f3"
            }
          },
          "metadata": {}
        }
      ]
    },
    {
      "cell_type": "markdown",
      "source": [
        "# Goal: Determine the cancellation rate for each airline using Ray\n",
        "# Create an airline Actor\n",
        "# Create Tasks to\n",
        "1. Calculate the percentage of cancelled flights\n",
        "2. The average delay time\n",
        "3. The average distance flown\n",
        "4. The number of flights to a destination"
      ],
      "metadata": {
        "id": "kq--VOwBHgur"
      }
    },
    {
      "cell_type": "code",
      "source": [
        "# turn this class into an Actor\n",
        "@ray.remote\n",
        "class Airline:\n",
        "  def __init__(self, code, name):\n",
        "    self.code = code\n",
        "    self.name = name\n",
        "    self.i = 0\n",
        "\n",
        "  def get_code(self):\n",
        "    return self.code\n",
        "\n",
        "  def get_name(self):\n",
        "    return self.name\n",
        "\n",
        "  def incr(self, value):\n",
        "    self.i += value"
      ],
      "metadata": {
        "id": "KKaZRUZqHZ5f"
      },
      "execution_count": null,
      "outputs": []
    },
    {
      "cell_type": "code",
      "source": [
        "# get the top 4 airlines from the key\n",
        "r = airlines.take(4)\n",
        "r"
      ],
      "metadata": {
        "colab": {
          "base_uri": "https://localhost:8080/"
        },
        "id": "wVsJf8hYIZss",
        "outputId": "006c389e-0ac3-4740-9cfb-e51d854aaf0a"
      },
      "execution_count": null,
      "outputs": [
        {
          "output_type": "execute_result",
          "data": {
            "text/plain": [
              "[ArrowRow({'Code': '02Q', 'Description': 'Titan Airways'}),\n",
              " ArrowRow({'Code': '04Q', 'Description': 'Tradewind Aviation'}),\n",
              " ArrowRow({'Code': '05Q', 'Description': 'Comlux Aviation, AG'}),\n",
              " ArrowRow({'Code': '06Q', 'Description': 'Master Top Linhas Aereas Ltd.'})]"
            ]
          },
          "metadata": {},
          "execution_count": 82
        }
      ]
    },
    {
      "cell_type": "code",
      "source": [
        "# for each airline from the 4 we took, create the Airline actor\n",
        "air = []\n",
        "for a in r:\n",
        "  air.append(Airline.remote(a['Code'], a['Description']))\n",
        "air"
      ],
      "metadata": {
        "colab": {
          "base_uri": "https://localhost:8080/"
        },
        "id": "WISn8FwRIfY4",
        "outputId": "ad6d6447-8a5d-4d00-ab2b-8e84ee1b309e"
      },
      "execution_count": null,
      "outputs": [
        {
          "output_type": "execute_result",
          "data": {
            "text/plain": [
              "[Actor(Airline, 3b81f491cafd376fa695768c01000000),\n",
              " Actor(Airline, 4e91ad408fbfc2adb7141f8e01000000),\n",
              " Actor(Airline, 557c33fda7c8349c103ca26e01000000),\n",
              " Actor(Airline, fa4e3ce99dfef5288b6b9cc601000000)]"
            ]
          },
          "metadata": {},
          "execution_count": 51
        },
        {
          "output_type": "stream",
          "name": "stderr",
          "text": [
            "2022-12-07 07:05:46,395\tWARNING worker.py:1839 -- WARNING: 16 PYTHON worker processes have been started on node: 815a248a2ff2a47f71c6d8e30bd32e4641b1f38cc5c46521f95d1adf with address: 172.28.0.12. This could be a result of using a large number of actors, or due to tasks blocked in ray.get() calls (see https://github.com/ray-project/ray/issues/3644 for some discussion of workarounds).\n"
          ]
        }
      ]
    },
    {
      "cell_type": "code",
      "source": [
        "# for each Airline actor, return the name asynchronosly\n",
        "for b in air:\n",
        "  airline_name = b.get_name.remote()\n",
        "  print(ray.get(airline_name))"
      ],
      "metadata": {
        "id": "BzqqFdsDKyp2"
      },
      "execution_count": null,
      "outputs": []
    },
    {
      "cell_type": "code",
      "source": [
        "# create a task that will count the number of flight records by airline asynchronosly\n",
        "@ray.remote\n",
        "def datacount():\n",
        "  return flights.groupby('Airline').count()"
      ],
      "metadata": {
        "id": "HbVHu2MsZrq5"
      },
      "execution_count": null,
      "outputs": []
    },
    {
      "cell_type": "code",
      "source": [
        "# create an object reference of the asynchronos job\n",
        "obj_ref = datacount.remote()"
      ],
      "metadata": {
        "id": "EymYF5s1gNbX"
      },
      "execution_count": null,
      "outputs": []
    },
    {
      "cell_type": "code",
      "source": [
        "counts = ray.get(obj_ref)"
      ],
      "metadata": {
        "colab": {
          "base_uri": "https://localhost:8080/"
        },
        "outputId": "c8836f97-6b73-47ca-fe62-fcce35197c4a",
        "id": "0chldDtRtygL"
      },
      "execution_count": null,
      "outputs": [
        {
          "output_type": "stream",
          "name": "stderr",
          "text": [
            "\u001b[2m\u001b[36m(datacount pid=7677)\u001b[0m \rShuffle Map:  20%|██        | 1/5 [00:23<01:35, 23.93s/it]\n",
            "Shuffle Map:  40%|████      | 2/5 [00:24<00:29,  9.92s/it]\n",
            "Shuffle Map:  60%|██████    | 3/5 [00:47<00:32, 16.07s/it]\n",
            "Shuffle Map:  80%|████████  | 4/5 [00:47<00:09,  9.80s/it]\n"
          ]
        }
      ]
    },
    {
      "cell_type": "code",
      "source": [
        "# execute the object reference, sort the count output by descending, then take the top 10\n",
        "top = ray.get(obj_ref).sort('count()', descending=True).take(10)"
      ],
      "metadata": {
        "id": "lH6U5gghigMC"
      },
      "execution_count": null,
      "outputs": []
    },
    {
      "cell_type": "code",
      "source": [
        "# create a task that will count the number of flight records by airline asynchronosly\n",
        "@ray.remote\n",
        "def filterCancel():\n",
        "  return flight_shards.filter(lambda x: x['Cancelled']==True)"
      ],
      "metadata": {
        "id": "GW5MlXc1ijCa"
      },
      "execution_count": null,
      "outputs": []
    },
    {
      "cell_type": "code",
      "source": [
        "cancelled = ray.get(filterCancel.remote())"
      ],
      "metadata": {
        "colab": {
          "base_uri": "https://localhost:8080/"
        },
        "id": "w5bQ_eQ2qAfU",
        "outputId": "a49175d4-fa83-4c82-f815-457110fbf08c"
      },
      "execution_count": null,
      "outputs": [
        {
          "output_type": "stream",
          "name": "stderr",
          "text": [
            "Filter:  86%|████████▌ | 86/100 [06:03<00:45,  3.25s/it]\n",
            "Filter:  87%|████████▋ | 87/100 [06:18<01:26,  6.62s/it]\n",
            "Filter:  88%|████████▊ | 88/100 [06:31<01:44,  8.68s/it]\n",
            "Filter:  20%|██        | 1/5 [02:30<10:00, 150.19s/it]\n",
            "Filter:  40%|████      | 2/5 [02:30<03:06, 62.10s/it] \n",
            "Filter:  60%|██████    | 3/5 [04:40<03:06, 93.20s/it]\n",
            "Filter:  80%|████████  | 4/5 [04:41<00:56, 56.62s/it]\n",
            "Filter:  89%|████████▉ | 89/100 [10:48<15:15, 83.25s/it]\n",
            "Filter:  90%|█████████ | 90/100 [10:55<10:03, 60.39s/it]\n",
            "Filter:  91%|█████████ | 91/100 [11:01<06:36, 44.02s/it]\n",
            "Filter:  92%|█████████▏| 92/100 [11:08<04:22, 32.78s/it]\n",
            "Filter:  93%|█████████▎| 93/100 [11:14<02:53, 24.73s/it]\n",
            "Filter:  94%|█████████▍| 94/100 [11:21<01:57, 19.51s/it]\n",
            "Filter:  95%|█████████▌| 95/100 [11:27<01:17, 15.48s/it]\n",
            "Filter:  96%|█████████▌| 96/100 [11:33<00:50, 12.61s/it]\n",
            "Filter:  97%|█████████▋| 97/100 [11:39<00:31, 10.64s/it]\n",
            "Filter:  98%|█████████▊| 98/100 [11:45<00:18,  9.23s/it]\n",
            "Filter:  99%|█████████▉| 99/100 [11:55<00:09,  9.42s/it]\n",
            "Filter: 100%|██████████| 100/100 [12:00<00:00,  7.21s/it]\n"
          ]
        },
        {
          "output_type": "stream",
          "name": "stdout",
          "text": [
            "{'FlightDate': datetime.datetime(2018, 1, 17, 0, 0), 'Airline': 'Endeavor Air Inc.', 'Origin': 'ATL', 'Dest': 'ABY', 'Cancelled': True, 'Diverted': False, 'CRSDepTime': 1037, 'DepTime': None, 'DepDelayMinutes': None, 'DepDelay': None, 'ArrTime': None, 'ArrDelayMinutes': None, 'AirTime': None, 'CRSElapsedTime': 60.0, 'ActualElapsedTime': None, 'Distance': 145.0, 'Year': 2018, 'Quarter': 1, 'Month': 1, 'DayofMonth': 17, 'DayOfWeek': 3, 'Marketing_Airline_Network': 'DL', 'Operated_or_Branded_Code_Share_Partners': 'DL_CODESHARE', 'DOT_ID_Marketing_Airline': 19790, 'IATA_Code_Marketing_Airline': 'DL', 'Flight_Number_Marketing_Airline': 3298, 'Operating_Airline': '9E', 'DOT_ID_Operating_Airline': 20363, 'IATA_Code_Operating_Airline': '9E', 'Tail_Number': 'N8972E', 'Flight_Number_Operating_Airline': 3298, 'OriginAirportID': 10397, 'OriginAirportSeqID': 1039707, 'OriginCityMarketID': 30397, 'OriginCityName': 'Atlanta, GA', 'OriginState': 'GA', 'OriginStateFips': 13, 'OriginStateName': 'Georgia', 'OriginWac': 34, 'DestAirportID': 10146, 'DestAirportSeqID': 1014602, 'DestCityMarketID': 30146, 'DestCityName': 'Albany, GA', 'DestState': 'GA', 'DestStateFips': 13, 'DestStateName': 'Georgia', 'DestWac': 34, 'DepDel15': None, 'DepartureDelayGroups': None, 'DepTimeBlk': '1000-1059', 'TaxiOut': None, 'WheelsOff': None, 'WheelsOn': None, 'TaxiIn': None, 'CRSArrTime': 1137, 'ArrDelay': None, 'ArrDel15': None, 'ArrivalDelayGroups': None, 'ArrTimeBlk': '1100-1159', 'DistanceGroup': 1, 'DivAirportLandings': 0.0, '__index_level_0__': 23}\n",
            "{'FlightDate': datetime.datetime(2018, 1, 12, 0, 0), 'Airline': 'Endeavor Air Inc.', 'Origin': 'ATL', 'Dest': 'EVV', 'Cancelled': True, 'Diverted': False, 'CRSDepTime': 939, 'DepTime': None, 'DepDelayMinutes': None, 'DepDelay': None, 'ArrTime': None, 'ArrDelayMinutes': None, 'AirTime': None, 'CRSElapsedTime': 89.0, 'ActualElapsedTime': None, 'Distance': 350.0, 'Year': 2018, 'Quarter': 1, 'Month': 1, 'DayofMonth': 12, 'DayOfWeek': 5, 'Marketing_Airline_Network': 'DL', 'Operated_or_Branded_Code_Share_Partners': 'DL_CODESHARE', 'DOT_ID_Marketing_Airline': 19790, 'IATA_Code_Marketing_Airline': 'DL', 'Flight_Number_Marketing_Airline': 3299, 'Operating_Airline': '9E', 'DOT_ID_Operating_Airline': 20363, 'IATA_Code_Operating_Airline': '9E', 'Tail_Number': 'N8928A', 'Flight_Number_Operating_Airline': 3299, 'OriginAirportID': 10397, 'OriginAirportSeqID': 1039707, 'OriginCityMarketID': 30397, 'OriginCityName': 'Atlanta, GA', 'OriginState': 'GA', 'OriginStateFips': 13, 'OriginStateName': 'Georgia', 'OriginWac': 34, 'DestAirportID': 11612, 'DestAirportSeqID': 1161206, 'DestCityMarketID': 31612, 'DestCityName': 'Evansville, IN', 'DestState': 'IN', 'DestStateFips': 18, 'DestStateName': 'Indiana', 'DestWac': 42, 'DepDel15': None, 'DepartureDelayGroups': None, 'DepTimeBlk': '0900-0959', 'TaxiOut': None, 'WheelsOff': None, 'WheelsOn': None, 'TaxiIn': None, 'CRSArrTime': 1008, 'ArrDelay': None, 'ArrDel15': None, 'ArrivalDelayGroups': None, 'ArrTimeBlk': '1000-1059', 'DistanceGroup': 2, 'DivAirportLandings': 0.0, '__index_level_0__': 49}\n",
            "{'FlightDate': datetime.datetime(2018, 1, 17, 0, 0), 'Airline': 'Endeavor Air Inc.', 'Origin': 'ATL', 'Dest': 'EVV', 'Cancelled': True, 'Diverted': False, 'CRSDepTime': 939, 'DepTime': None, 'DepDelayMinutes': None, 'DepDelay': None, 'ArrTime': None, 'ArrDelayMinutes': None, 'AirTime': None, 'CRSElapsedTime': 89.0, 'ActualElapsedTime': None, 'Distance': 350.0, 'Year': 2018, 'Quarter': 1, 'Month': 1, 'DayofMonth': 17, 'DayOfWeek': 3, 'Marketing_Airline_Network': 'DL', 'Operated_or_Branded_Code_Share_Partners': 'DL_CODESHARE', 'DOT_ID_Marketing_Airline': 19790, 'IATA_Code_Marketing_Airline': 'DL', 'Flight_Number_Marketing_Airline': 3299, 'Operating_Airline': '9E', 'DOT_ID_Operating_Airline': 20363, 'IATA_Code_Operating_Airline': '9E', 'Tail_Number': 'N8688C', 'Flight_Number_Operating_Airline': 3299, 'OriginAirportID': 10397, 'OriginAirportSeqID': 1039707, 'OriginCityMarketID': 30397, 'OriginCityName': 'Atlanta, GA', 'OriginState': 'GA', 'OriginStateFips': 13, 'OriginStateName': 'Georgia', 'OriginWac': 34, 'DestAirportID': 11612, 'DestAirportSeqID': 1161206, 'DestCityMarketID': 31612, 'DestCityName': 'Evansville, IN', 'DestState': 'IN', 'DestStateFips': 18, 'DestStateName': 'Indiana', 'DestWac': 42, 'DepDel15': None, 'DepartureDelayGroups': None, 'DepTimeBlk': '0900-0959', 'TaxiOut': None, 'WheelsOff': None, 'WheelsOn': None, 'TaxiIn': None, 'CRSArrTime': 1008, 'ArrDelay': None, 'ArrDel15': None, 'ArrivalDelayGroups': None, 'ArrTimeBlk': '1000-1059', 'DistanceGroup': 2, 'DivAirportLandings': 0.0, '__index_level_0__': 54}\n",
            "{'FlightDate': datetime.datetime(2018, 1, 4, 0, 0), 'Airline': 'Endeavor Air Inc.', 'Origin': 'ATL', 'Dest': 'EWN', 'Cancelled': True, 'Diverted': False, 'CRSDepTime': 1225, 'DepTime': None, 'DepDelayMinutes': None, 'DepDelay': None, 'ArrTime': None, 'ArrDelayMinutes': None, 'AirTime': None, 'CRSElapsedTime': 85.0, 'ActualElapsedTime': None, 'Distance': 433.0, 'Year': 2018, 'Quarter': 1, 'Month': 1, 'DayofMonth': 4, 'DayOfWeek': 4, 'Marketing_Airline_Network': 'DL', 'Operated_or_Branded_Code_Share_Partners': 'DL_CODESHARE', 'DOT_ID_Marketing_Airline': 19790, 'IATA_Code_Marketing_Airline': 'DL', 'Flight_Number_Marketing_Airline': 3301, 'Operating_Airline': '9E', 'DOT_ID_Operating_Airline': 20363, 'IATA_Code_Operating_Airline': '9E', 'Tail_Number': 'N836AY', 'Flight_Number_Operating_Airline': 3301, 'OriginAirportID': 10397, 'OriginAirportSeqID': 1039707, 'OriginCityMarketID': 30397, 'OriginCityName': 'Atlanta, GA', 'OriginState': 'GA', 'OriginStateFips': 13, 'OriginStateName': 'Georgia', 'OriginWac': 34, 'DestAirportID': 11617, 'DestAirportSeqID': 1161708, 'DestCityMarketID': 31617, 'DestCityName': 'New Bern/Morehead/Beaufort, NC', 'DestState': 'NC', 'DestStateFips': 37, 'DestStateName': 'North Carolina', 'DestWac': 36, 'DepDel15': None, 'DepartureDelayGroups': None, 'DepTimeBlk': '1200-1259', 'TaxiOut': None, 'WheelsOff': None, 'WheelsOn': None, 'TaxiIn': None, 'CRSArrTime': 1350, 'ArrDelay': None, 'ArrDel15': None, 'ArrivalDelayGroups': None, 'ArrTimeBlk': '1300-1359', 'DistanceGroup': 2, 'DivAirportLandings': 0.0, '__index_level_0__': 101}\n",
            "{'FlightDate': datetime.datetime(2018, 1, 4, 0, 0), 'Airline': 'Endeavor Air Inc.', 'Origin': 'EWN', 'Dest': 'ATL', 'Cancelled': True, 'Diverted': False, 'CRSDepTime': 1415, 'DepTime': None, 'DepDelayMinutes': None, 'DepDelay': None, 'ArrTime': None, 'ArrDelayMinutes': None, 'AirTime': None, 'CRSElapsedTime': 110.0, 'ActualElapsedTime': None, 'Distance': 433.0, 'Year': 2018, 'Quarter': 1, 'Month': 1, 'DayofMonth': 4, 'DayOfWeek': 4, 'Marketing_Airline_Network': 'DL', 'Operated_or_Branded_Code_Share_Partners': 'DL_CODESHARE', 'DOT_ID_Marketing_Airline': 19790, 'IATA_Code_Marketing_Airline': 'DL', 'Flight_Number_Marketing_Airline': 3301, 'Operating_Airline': '9E', 'DOT_ID_Operating_Airline': 20363, 'IATA_Code_Operating_Airline': '9E', 'Tail_Number': 'N836AY', 'Flight_Number_Operating_Airline': 3301, 'OriginAirportID': 11617, 'OriginAirportSeqID': 1161708, 'OriginCityMarketID': 31617, 'OriginCityName': 'New Bern/Morehead/Beaufort, NC', 'OriginState': 'NC', 'OriginStateFips': 37, 'OriginStateName': 'North Carolina', 'OriginWac': 36, 'DestAirportID': 10397, 'DestAirportSeqID': 1039707, 'DestCityMarketID': 30397, 'DestCityName': 'Atlanta, GA', 'DestState': 'GA', 'DestStateFips': 13, 'DestStateName': 'Georgia', 'DestWac': 34, 'DepDel15': None, 'DepartureDelayGroups': None, 'DepTimeBlk': '1400-1459', 'TaxiOut': None, 'WheelsOff': None, 'WheelsOn': None, 'TaxiIn': None, 'CRSArrTime': 1605, 'ArrDelay': None, 'ArrDel15': None, 'ArrivalDelayGroups': None, 'ArrTimeBlk': '1600-1659', 'DistanceGroup': 2, 'DivAirportLandings': 0.0, '__index_level_0__': 128}\n"
          ]
        }
      ]
    },
    {
      "cell_type": "code",
      "source": [
        "# get the top 10 airline and flight count\n",
        "x = []\n",
        "y = []\n",
        "for airline in top:\n",
        "  x.append(airline['Airline'])\n",
        "  y.append(airline['count()'] / 1000)"
      ],
      "metadata": {
        "id": "0KeijtrGpmI4"
      },
      "execution_count": null,
      "outputs": []
    },
    {
      "cell_type": "code",
      "source": [
        "# plot the top 10 flight counts by airline\n",
        "fig, ax = plt.subplots(figsize=(8,4))\n",
        "\n",
        "ax.bar(x, y)\n",
        "\n",
        "ax.set_ylabel('Flights (000s)')\n",
        "ax.set_title('Airline Flights 2018')\n",
        "plt.setp( ax.xaxis.get_majorticklabels(), rotation=45, ha=\"right\", rotation_mode=\"anchor\")\n",
        "plt.show()"
      ],
      "metadata": {
        "colab": {
          "base_uri": "https://localhost:8080/",
          "height": 359
        },
        "id": "k4UBQzifqZqQ",
        "outputId": "2128a0c9-fb00-4546-b05e-822c43ed6f55"
      },
      "execution_count": null,
      "outputs": [
        {
          "output_type": "display_data",
          "data": {
            "text/plain": [
              "<Figure size 576x288 with 1 Axes>"
            ],
            "image/png": "[encoded data removed]"
          },
          "metadata": {
            "needs_background": "light"
          }
        }
      ]
    },
    {
      "cell_type": "code",
      "source": [],
      "metadata": {
        "id": "catqdxPlq_pw"
      },
      "execution_count": null,
      "outputs": []
    }
  ]
}