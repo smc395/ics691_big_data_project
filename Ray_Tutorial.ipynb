{
  "nbformat": 4,
  "nbformat_minor": 0,
  "metadata": {
    "colab": {
      "provenance": [],
      "authorship_tag": "ABX9TyPTTU9UOWieZLRQ+koIkwfe",
      "include_colab_link": true
    },
    "kernelspec": {
      "name": "python3",
      "display_name": "Python 3"
    },
    "language_info": {
      "name": "python"
    },
    "accelerator": "GPU",
    "gpuClass": "standard"
  },
  "cells": [
    {
      "cell_type": "markdown",
      "metadata": {
        "id": "view-in-github",
        "colab_type": "text"
      },
      "source": [
        "<a href=\"https://colab.research.google.com/github/smc395/ics691_big_data_project/blob/main/Ray_Tutorial.ipynb\" target=\"_parent\"><img src=\"https://colab.research.google.com/assets/colab-badge.svg\" alt=\"Open In Colab\"/></a>"
      ]
    },
    {
      "cell_type": "markdown",
      "source": [
        "# Introduction\n",
        "This tutorial is for ICS691 Big Data Analytics Fall 2022 semester project. I will be evaluating [Ray](https://www.ray.io/), an open-source unified compute framework."
      ],
      "metadata": {
        "id": "lXpMYp9MCbJZ"
      }
    },
    {
      "cell_type": "markdown",
      "source": [
        "# References\n",
        "1. [Ray Documentation](https://docs.ray.io/en/latest/ray-overview/index.html)\n",
        "2. [Downloading Kaggle datasets directly into Google Colab](https://towardsdatascience.com/downloading-kaggle-datasets-directly-into-google-colab-c8f0f407d73a)\n",
        "3. [Kaggle Flight Delay Dataset](https://www.kaggle.com/datasets/robikscube/flight-delay-dataset-20182022)"
      ],
      "metadata": {
        "id": "lHQOeh6GArly"
      }
    },
    {
      "cell_type": "markdown",
      "source": [
        "## Getting Started"
      ],
      "metadata": {
        "id": "AGxqxvrPKo6n"
      }
    },
    {
      "cell_type": "code",
      "source": [
        "# Install dependencies\n",
        "%%capture --no-display\n",
        "!pip install -U \"pyarrow<7.0.0\"\n",
        "!pip install ray\n",
        "!pip install kaggle"
      ],
      "metadata": {
        "colab": {
          "base_uri": "https://localhost:8080/"
        },
        "id": "H-pbmAmH-GlN",
        "outputId": "0012c611-12c3-4846-d2bd-43fb07f5937a"
      },
      "execution_count": 1,
      "outputs": [
        {
          "output_type": "stream",
          "name": "stdout",
          "text": [
            "Looking in indexes: https://pypi.org/simple, https://us-python.pkg.dev/colab-wheels/public/simple/\n",
            "Collecting pyarrow<7.0.0\n",
            "  Downloading pyarrow-6.0.1-cp38-cp38-manylinux_2_17_x86_64.manylinux2014_x86_64.whl (25.6 MB)\n",
            "\u001b[K     |████████████████████████████████| 25.6 MB 1.4 MB/s \n",
            "\u001b[?25hRequirement already satisfied: numpy>=1.16.6 in /usr/local/lib/python3.8/dist-packages (from pyarrow<7.0.0) (1.21.6)\n",
            "Installing collected packages: pyarrow\n",
            "  Attempting uninstall: pyarrow\n",
            "    Found existing installation: pyarrow 9.0.0\n",
            "    Uninstalling pyarrow-9.0.0:\n",
            "      Successfully uninstalled pyarrow-9.0.0\n",
            "Successfully installed pyarrow-6.0.1\n",
            "Looking in indexes: https://pypi.org/simple, https://us-python.pkg.dev/colab-wheels/public/simple/\n",
            "Collecting ray\n",
            "  Downloading ray-2.1.0-cp38-cp38-manylinux2014_x86_64.whl (58.9 MB)\n",
            "\u001b[K     |████████████████████████████████| 58.9 MB 1.1 MB/s \n",
            "\u001b[?25hRequirement already satisfied: filelock in /usr/local/lib/python3.8/dist-packages (from ray) (3.8.0)\n",
            "Collecting virtualenv>=20.0.24\n",
            "  Downloading virtualenv-20.17.1-py3-none-any.whl (8.8 MB)\n",
            "\u001b[K     |████████████████████████████████| 8.8 MB 59.7 MB/s \n",
            "\u001b[?25hRequirement already satisfied: protobuf!=3.19.5,>=3.15.3 in /usr/local/lib/python3.8/dist-packages (from ray) (3.19.6)\n",
            "Requirement already satisfied: grpcio>=1.32.0 in /usr/local/lib/python3.8/dist-packages (from ray) (1.50.0)\n",
            "Requirement already satisfied: numpy>=1.16 in /usr/local/lib/python3.8/dist-packages (from ray) (1.21.6)\n",
            "Requirement already satisfied: aiosignal in /usr/local/lib/python3.8/dist-packages (from ray) (1.3.1)\n",
            "Requirement already satisfied: msgpack<2.0.0,>=1.0.0 in /usr/local/lib/python3.8/dist-packages (from ray) (1.0.4)\n",
            "Requirement already satisfied: click<=8.0.4,>=7.0 in /usr/local/lib/python3.8/dist-packages (from ray) (7.1.2)\n",
            "Requirement already satisfied: attrs in /usr/local/lib/python3.8/dist-packages (from ray) (22.1.0)\n",
            "Requirement already satisfied: pyyaml in /usr/local/lib/python3.8/dist-packages (from ray) (6.0)\n",
            "Requirement already satisfied: requests in /usr/local/lib/python3.8/dist-packages (from ray) (2.23.0)\n",
            "Requirement already satisfied: jsonschema in /usr/local/lib/python3.8/dist-packages (from ray) (4.3.3)\n",
            "Requirement already satisfied: frozenlist in /usr/local/lib/python3.8/dist-packages (from ray) (1.3.3)\n",
            "Requirement already satisfied: six>=1.5.2 in /usr/local/lib/python3.8/dist-packages (from grpcio>=1.32.0->ray) (1.15.0)\n",
            "Collecting platformdirs<3,>=2.4\n",
            "  Downloading platformdirs-2.5.4-py3-none-any.whl (14 kB)\n",
            "Collecting distlib<1,>=0.3.6\n",
            "  Downloading distlib-0.3.6-py2.py3-none-any.whl (468 kB)\n",
            "\u001b[K     |████████████████████████████████| 468 kB 68.9 MB/s \n",
            "\u001b[?25hRequirement already satisfied: importlib-resources>=1.4.0 in /usr/local/lib/python3.8/dist-packages (from jsonschema->ray) (5.10.0)\n",
            "Requirement already satisfied: pyrsistent!=0.17.0,!=0.17.1,!=0.17.2,>=0.14.0 in /usr/local/lib/python3.8/dist-packages (from jsonschema->ray) (0.19.2)\n",
            "Requirement already satisfied: zipp>=3.1.0 in /usr/local/lib/python3.8/dist-packages (from importlib-resources>=1.4.0->jsonschema->ray) (3.10.0)\n",
            "Requirement already satisfied: chardet<4,>=3.0.2 in /usr/local/lib/python3.8/dist-packages (from requests->ray) (3.0.4)\n",
            "Requirement already satisfied: idna<3,>=2.5 in /usr/local/lib/python3.8/dist-packages (from requests->ray) (2.10)\n",
            "Requirement already satisfied: certifi>=2017.4.17 in /usr/local/lib/python3.8/dist-packages (from requests->ray) (2022.9.24)\n",
            "Requirement already satisfied: urllib3!=1.25.0,!=1.25.1,<1.26,>=1.21.1 in /usr/local/lib/python3.8/dist-packages (from requests->ray) (1.24.3)\n",
            "Installing collected packages: platformdirs, distlib, virtualenv, ray\n",
            "Successfully installed distlib-0.3.6 platformdirs-2.5.4 ray-2.1.0 virtualenv-20.17.1\n",
            "Looking in indexes: https://pypi.org/simple, https://us-python.pkg.dev/colab-wheels/public/simple/\n",
            "Requirement already satisfied: kaggle in /usr/local/lib/python3.8/dist-packages (1.5.12)\n",
            "Requirement already satisfied: urllib3 in /usr/local/lib/python3.8/dist-packages (from kaggle) (1.24.3)\n",
            "Requirement already satisfied: tqdm in /usr/local/lib/python3.8/dist-packages (from kaggle) (4.64.1)\n",
            "Requirement already satisfied: requests in /usr/local/lib/python3.8/dist-packages (from kaggle) (2.23.0)\n",
            "Requirement already satisfied: certifi in /usr/local/lib/python3.8/dist-packages (from kaggle) (2022.9.24)\n",
            "Requirement already satisfied: six>=1.10 in /usr/local/lib/python3.8/dist-packages (from kaggle) (1.15.0)\n",
            "Requirement already satisfied: python-slugify in /usr/local/lib/python3.8/dist-packages (from kaggle) (7.0.0)\n",
            "Requirement already satisfied: python-dateutil in /usr/local/lib/python3.8/dist-packages (from kaggle) (2.8.2)\n",
            "Requirement already satisfied: text-unidecode>=1.3 in /usr/local/lib/python3.8/dist-packages (from python-slugify->kaggle) (1.3)\n",
            "Requirement already satisfied: idna<3,>=2.5 in /usr/local/lib/python3.8/dist-packages (from requests->kaggle) (2.10)\n",
            "Requirement already satisfied: chardet<4,>=3.0.2 in /usr/local/lib/python3.8/dist-packages (from requests->kaggle) (3.0.4)\n"
          ]
        }
      ]
    },
    {
      "cell_type": "code",
      "execution_count": 70,
      "metadata": {
        "colab": {
          "base_uri": "https://localhost:8080/",
          "height": 116
        },
        "id": "LknzqHVu76pO",
        "outputId": "4b126319-e252-4877-f03c-29b0c1a43d75"
      },
      "outputs": [
        {
          "output_type": "stream",
          "name": "stderr",
          "text": [
            "2022-12-07 07:33:56,313\tWARNING services.py:1922 -- WARNING: The object store is using /tmp instead of /dev/shm because /dev/shm has only 3099783168 bytes available. This will harm performance! You may be able to free up space by deleting files in /dev/shm. If you are inside a Docker container, you can increase /dev/shm size by passing '--shm-size=4.04gb' to 'docker run' (or add it to the run_options list in a Ray cluster config). Make sure to set this to more than 30% of available RAM.\n",
            "2022-12-07 07:33:56,435\tINFO worker.py:1528 -- Started a local Ray instance.\n"
          ]
        },
        {
          "output_type": "execute_result",
          "data": {
            "text/plain": [
              "RayContext(dashboard_url='', python_version='3.8.15', ray_version='2.1.0', ray_commit='be49bde7ee4f6adb3f8710aee0665c27f9f0bb62', address_info={'node_ip_address': '172.28.0.12', 'raylet_ip_address': '172.28.0.12', 'redis_address': None, 'object_store_address': '/tmp/ray/session_2022-12-07_07-33-53_366021_74/sockets/plasma_store', 'raylet_socket_name': '/tmp/ray/session_2022-12-07_07-33-53_366021_74/sockets/raylet', 'webui_url': '', 'session_dir': '/tmp/ray/session_2022-12-07_07-33-53_366021_74', 'metrics_export_port': 36101, 'gcs_address': '172.28.0.12:47338', 'address': '172.28.0.12:47338', 'dashboard_agent_listen_port': 52365, 'node_id': 'f23f12345f651494d889f51a3ba7c284b45eda409e62ba8cb5466744'})"
            ],
            "text/html": [
              "<div>\n",
              "    <div style=\"margin-left: 50px;display: flex;flex-direction: row;align-items: center\">\n",
              "        <h3 style=\"color: var(--jp-ui-font-color0)\">Ray</h3>\n",
              "        <svg version=\"1.1\" id=\"ray\" width=\"3em\" viewBox=\"0 0 144.5 144.6\" style=\"margin-left: 3em;margin-right: 3em\">\n",
              "            <g id=\"layer-1\">\n",
              "                <path fill=\"#00a2e9\" class=\"st0\" d=\"M97.3,77.2c-3.8-1.1-6.2,0.9-8.3,5.1c-3.5,6.8-9.9,9.9-17.4,9.6S58,88.1,54.8,81.2c-1.4-3-3-4-6.3-4.1\n",
              "                    c-5.6-0.1-9.9,0.1-13.1,6.4c-3.8,7.6-13.6,10.2-21.8,7.6C5.2,88.4-0.4,80.5,0,71.7c0.1-8.4,5.7-15.8,13.8-18.2\n",
              "                    c8.4-2.6,17.5,0.7,22.3,8c1.3,1.9,1.3,5.2,3.6,5.6c3.9,0.6,8,0.2,12,0.2c1.8,0,1.9-1.6,2.4-2.8c3.5-7.8,9.7-11.8,18-11.9\n",
              "                    c8.2-0.1,14.4,3.9,17.8,11.4c1.3,2.8,2.9,3.6,5.7,3.3c1-0.1,2,0.1,3,0c2.8-0.5,6.4,1.7,8.1-2.7s-2.3-5.5-4.1-7.5\n",
              "                    c-5.1-5.7-10.9-10.8-16.1-16.3C84,38,81.9,37.1,78,38.3C66.7,42,56.2,35.7,53,24.1C50.3,14,57.3,2.8,67.7,0.5\n",
              "                    C78.4-2,89,4.7,91.5,15.3c0.1,0.3,0.1,0.5,0.2,0.8c0.7,3.4,0.7,6.9-0.8,9.8c-1.7,3.2-0.8,5,1.5,7.2c6.7,6.5,13.3,13,19.8,19.7\n",
              "                    c1.8,1.8,3,2.1,5.5,1.2c9.1-3.4,17.9-0.6,23.4,7c4.8,6.9,4.6,16.1-0.4,22.9c-5.4,7.2-14.2,9.9-23.1,6.5c-2.3-0.9-3.5-0.6-5.1,1.1\n",
              "                    c-6.7,6.9-13.6,13.7-20.5,20.4c-1.8,1.8-2.5,3.2-1.4,5.9c3.5,8.7,0.3,18.6-7.7,23.6c-7.9,5-18.2,3.8-24.8-2.9\n",
              "                    c-6.4-6.4-7.4-16.2-2.5-24.3c4.9-7.8,14.5-11,23.1-7.8c3,1.1,4.7,0.5,6.9-1.7C91.7,98.4,98,92.3,104.2,86c1.6-1.6,4.1-2.7,2.6-6.2\n",
              "                    c-1.4-3.3-3.8-2.5-6.2-2.6C99.8,77.2,98.9,77.2,97.3,77.2z M72.1,29.7c5.5,0.1,9.9-4.3,10-9.8c0-0.1,0-0.2,0-0.3\n",
              "                    C81.8,14,77,9.8,71.5,10.2c-5,0.3-9,4.2-9.3,9.2c-0.2,5.5,4,10.1,9.5,10.3C71.8,29.7,72,29.7,72.1,29.7z M72.3,62.3\n",
              "                    c-5.4-0.1-9.9,4.2-10.1,9.7c0,0.2,0,0.3,0,0.5c0.2,5.4,4.5,9.7,9.9,10c5.1,0.1,9.9-4.7,10.1-9.8c0.2-5.5-4-10-9.5-10.3\n",
              "                    C72.6,62.3,72.4,62.3,72.3,62.3z M115,72.5c0.1,5.4,4.5,9.7,9.8,9.9c5.6-0.2,10-4.8,10-10.4c-0.2-5.4-4.6-9.7-10-9.7\n",
              "                    c-5.3-0.1-9.8,4.2-9.9,9.5C115,72.1,115,72.3,115,72.5z M19.5,62.3c-5.4,0.1-9.8,4.4-10,9.8c-0.1,5.1,5.2,10.4,10.2,10.3\n",
              "                    c5.6-0.2,10-4.9,9.8-10.5c-0.1-5.4-4.5-9.7-9.9-9.6C19.6,62.3,19.5,62.3,19.5,62.3z M71.8,134.6c5.9,0.2,10.3-3.9,10.4-9.6\n",
              "                    c0.5-5.5-3.6-10.4-9.1-10.8c-5.5-0.5-10.4,3.6-10.8,9.1c0,0.5,0,0.9,0,1.4c-0.2,5.3,4,9.8,9.3,10\n",
              "                    C71.6,134.6,71.7,134.6,71.8,134.6z\"/>\n",
              "            </g>\n",
              "        </svg>\n",
              "        <table>\n",
              "            <tr>\n",
              "                <td style=\"text-align: left\"><b>Python version:</b></td>\n",
              "                <td style=\"text-align: left\"><b>3.8.15</b></td>\n",
              "            </tr>\n",
              "            <tr>\n",
              "                <td style=\"text-align: left\"><b>Ray version:</b></td>\n",
              "                <td style=\"text-align: left\"><b> 2.1.0</b></td>\n",
              "            </tr>\n",
              "            \n",
              "        </table>\n",
              "    </div>\n",
              "</div>\n"
            ]
          },
          "metadata": {},
          "execution_count": 70
        }
      ],
      "source": [
        "# Import dependencies and create Ray cluster\n",
        "import os\n",
        "import pyarrow as pa\n",
        "import matplotlib.pyplot as plt\n",
        "\n",
        "import ray\n",
        "ray.init()"
      ]
    },
    {
      "cell_type": "code",
      "source": [
        "ds = ray.data.read_parquet([\n",
        "    \"s3://anonymous@air-example-data/ursa-labs-taxi-data/downsampled_2009_01_data.parquet\",\n",
        "    \"s3://anonymous@air-example-data/ursa-labs-taxi-data/downsampled_2009_02_data.parquet\"\n",
        "])"
      ],
      "metadata": {
        "colab": {
          "base_uri": "https://localhost:8080/"
        },
        "id": "hTqrVqcC-Are",
        "outputId": "1b281f59-79cb-44ef-ef38-24e834eb8432"
      },
      "execution_count": null,
      "outputs": [
        {
          "output_type": "stream",
          "name": "stderr",
          "text": [
            "Parquet Files Sample:   0%|          | 0/2 [00:00<?, ?it/s]\n",
            "Parquet Files Sample:  50%|█████     | 1/2 [00:07<00:07,  7.11s/it]\n",
            "Parquet Files Sample: 100%|██████████| 2/2 [00:07<00:00,  3.80s/it]\n"
          ]
        }
      ]
    },
    {
      "cell_type": "code",
      "source": [
        "# This will connect the Colab notebook to your Google Drive account\n",
        "from google.colab import drive\n",
        "drive.mount('/gdrive')"
      ],
      "metadata": {
        "id": "A2PjM2_CdIHt",
        "colab": {
          "base_uri": "https://localhost:8080/"
        },
        "outputId": "08ea64a1-80c3-40cb-cb56-e135ad312ded"
      },
      "execution_count": 3,
      "outputs": [
        {
          "output_type": "stream",
          "name": "stdout",
          "text": [
            "Mounted at /gdrive\n"
          ]
        }
      ]
    },
    {
      "cell_type": "code",
      "source": [
        "os.environ['KAGGLE_CONFIG_DIR'] = '../gdrive/MyDrive/kaggle'\n",
        "os.chdir('../gdrive/MyDrive/kaggle')"
      ],
      "metadata": {
        "colab": {
          "base_uri": "https://localhost:8080/",
          "height": 35
        },
        "id": "3ulBsR-WqZcf",
        "outputId": "99fafd49-3d81-4657-e18e-18ba6297e444"
      },
      "execution_count": 4,
      "outputs": [
        {
          "output_type": "execute_result",
          "data": {
            "text/plain": [
              "'/content'"
            ],
            "application/vnd.google.colaboratory.intrinsic+json": {
              "type": "string"
            }
          },
          "metadata": {},
          "execution_count": 4
        }
      ]
    },
    {
      "cell_type": "code",
      "source": [
        "!kaggle datasets download -d robikscube/flight-delay-dataset-20182022"
      ],
      "metadata": {
        "colab": {
          "base_uri": "https://localhost:8080/"
        },
        "id": "VxmX0FK9sGOf",
        "outputId": "46900632-946e-4c92-e11e-11a0db878d76"
      },
      "execution_count": 40,
      "outputs": [
        {
          "output_type": "stream",
          "name": "stdout",
          "text": [
            "Downloading flight-delay-dataset-20182022.zip to /gdrive/MyDrive/kaggle\n",
            "100% 3.72G/3.73G [00:28<00:00, 170MB/s]\n",
            "100% 3.73G/3.73G [00:28<00:00, 142MB/s]\n"
          ]
        }
      ]
    },
    {
      "cell_type": "code",
      "source": [
        "zip_path = '/gdrive/MyDrive/kaggle/flight-delay-dataset-20182022.zip'"
      ],
      "metadata": {
        "id": "R2WScX2EwJZo"
      },
      "execution_count": 10,
      "outputs": []
    },
    {
      "cell_type": "code",
      "source": [
        "if not os.path.exists('/content/flight_data'):\n",
        "  os.mkdir('/content/flight_data')\n",
        "os.chdir('/content/flight_data')\n",
        "!cp '{zip_path}' ."
      ],
      "metadata": {
        "id": "YaBGmEsOu7ip"
      },
      "execution_count": 12,
      "outputs": []
    },
    {
      "cell_type": "code",
      "source": [
        "!unzip -q 'flight-delay-dataset-20182022.zip'"
      ],
      "metadata": {
        "id": "vSbtzR9UxfCO"
      },
      "execution_count": 13,
      "outputs": []
    },
    {
      "cell_type": "code",
      "source": [
        "#parquet_file_paths = [\n",
        "#'/content/flight_data/Combined_Flights_2018.parquet'\n",
        "#,'/content/flight_data/Combined_Flights_2019.parquet'\n",
        "#,'/content/flight_data/Combined_Flights_2020.parquet'\n",
        "#,'/content/flight_data/Combined_Flights_2021.parquet'\n",
        "#,'/content/flight_data/Combined_Flights_2022.parquet'\n",
        "#]"
      ],
      "metadata": {
        "colab": {
          "base_uri": "https://localhost:8080/"
        },
        "id": "W_hMkSpEyFXp",
        "outputId": "0977b9f1-f8cc-44f5-a3ea-e1b7c5acecbe"
      },
      "execution_count": 49,
      "outputs": [
        {
          "output_type": "execute_result",
          "data": {
            "text/plain": [
              "['Combined_Flights_2021.csv',\n",
              " 'Combined_Flights_2018.csv',\n",
              " 'Airlines.csv',\n",
              " 'Combined_Flights_2020.csv',\n",
              " 'raw',\n",
              " 'readme.md',\n",
              " 'Combined_Flights_2019.csv',\n",
              " 'Combined_Flights_2018.parquet',\n",
              " 'Combined_Flights_2021.parquet',\n",
              " 'Combined_Flights_2019.parquet',\n",
              " 'Combined_Flights_2022.parquet',\n",
              " '.ipynb_checkpoints',\n",
              " 'Combined_Flights_2020.parquet',\n",
              " 'flight-delay-dataset-20182022.zip',\n",
              " 'readme.html',\n",
              " 'Combined_Flights_2022.csv']"
            ]
          },
          "metadata": {},
          "execution_count": 49
        }
      ]
    },
    {
      "cell_type": "code",
      "source": [
        "# Read in flight data in parallel\n",
        "#flights = ray.data.read_parquet(parquet_file_paths, parallelism=5).repartition(5)\n",
        "flights = ray.data.read_parquet('/content/flight_data/Combined_Flights_2018.parquet', parallelism=2).repartition(2)"
      ],
      "metadata": {
        "colab": {
          "base_uri": "https://localhost:8080/"
        },
        "id": "GC40He2mzyp6",
        "outputId": "90bd6a3f-d90b-40aa-ace8-50f76c1761bf"
      },
      "execution_count": 71,
      "outputs": [
        {
          "output_type": "stream",
          "name": "stderr",
          "text": [
            "\u001b[2m\u001b[36m(_get_read_tasks pid=9114)\u001b[0m \r  0%|          | 0/1 [00:00<?, ?it/s]\rParquet Files Sample:   0%|          | 0/1 [00:00<?, ?it/s]\n",
            "2022-12-07 07:35:13,311\tWARNING read_api.py:285 -- ⚠️  The blocks of this dataset are estimated to be 5.0x larger than the target block size of 512 MiB. This may lead to out-of-memory errors during processing. Consider reducing the size of input files or using `.repartition(n)` to increase the number of dataset blocks.\n",
            "Parquet Files Sample: 100%|██████████| 1/1 [00:00<00:00,  2.11it/s]\n",
            "\u001b[2m\u001b[36m(raylet)\u001b[0m Spilled 2862 MiB, 1 objects, write throughput 111 MiB/s. Set RAY_verbose_spill_logs=0 to disable this message.\n",
            "Read: 100%|██████████| 1/1 [01:06<00:00, 66.52s/it]\n",
            "Repartition:   0%|          | 0/2 [00:00<?, ?it/s]\u001b[2m\u001b[36m(raylet)\u001b[0m Spilled 4285 MiB, 3 objects, write throughput 87 MiB/s.\n",
            "\u001b[2m\u001b[36m(raylet)\u001b[0m Spilled 8570 MiB, 5 objects, write throughput 110 MiB/s.\n",
            "Repartition: 100%|██████████| 2/2 [01:13<00:00, 36.60s/it]\n"
          ]
        }
      ]
    },
    {
      "cell_type": "code",
      "source": [
        "airlines = ray.data.read_csv('/content/flight_data/Airlines.csv')"
      ],
      "metadata": {
        "id": "dWrYl_hyFlp0"
      },
      "execution_count": 73,
      "outputs": []
    },
    {
      "cell_type": "code",
      "source": [
        "flights.count()"
      ],
      "metadata": {
        "colab": {
          "base_uri": "https://localhost:8080/"
        },
        "id": "DkiMw_3Nz9wB",
        "outputId": "23770a14-50b2-4ce4-d2be-5e6b2a22215c"
      },
      "execution_count": 74,
      "outputs": [
        {
          "output_type": "execute_result",
          "data": {
            "text/plain": [
              "5689512"
            ]
          },
          "metadata": {},
          "execution_count": 74
        }
      ]
    },
    {
      "cell_type": "code",
      "source": [
        "flights.schema()"
      ],
      "metadata": {
        "colab": {
          "base_uri": "https://localhost:8080/"
        },
        "id": "4GaTUdFZ05z_",
        "outputId": "b25e1cf1-52d5-4e75-952b-426347637229"
      },
      "execution_count": 75,
      "outputs": [
        {
          "output_type": "execute_result",
          "data": {
            "text/plain": [
              "FlightDate: timestamp[us]\n",
              "Airline: string\n",
              "Origin: string\n",
              "Dest: string\n",
              "Cancelled: bool\n",
              "Diverted: bool\n",
              "CRSDepTime: int64\n",
              "DepTime: double\n",
              "DepDelayMinutes: double\n",
              "DepDelay: double\n",
              "ArrTime: double\n",
              "ArrDelayMinutes: double\n",
              "AirTime: double\n",
              "CRSElapsedTime: double\n",
              "ActualElapsedTime: double\n",
              "Distance: double\n",
              "Year: int64\n",
              "Quarter: int64\n",
              "Month: int64\n",
              "DayofMonth: int64\n",
              "DayOfWeek: int64\n",
              "Marketing_Airline_Network: string\n",
              "Operated_or_Branded_Code_Share_Partners: string\n",
              "DOT_ID_Marketing_Airline: int64\n",
              "IATA_Code_Marketing_Airline: string\n",
              "Flight_Number_Marketing_Airline: int64\n",
              "Operating_Airline: string\n",
              "DOT_ID_Operating_Airline: int64\n",
              "IATA_Code_Operating_Airline: string\n",
              "Tail_Number: string\n",
              "Flight_Number_Operating_Airline: int64\n",
              "OriginAirportID: int64\n",
              "OriginAirportSeqID: int64\n",
              "OriginCityMarketID: int64\n",
              "OriginCityName: string\n",
              "OriginState: string\n",
              "OriginStateFips: int64\n",
              "OriginStateName: string\n",
              "OriginWac: int64\n",
              "DestAirportID: int64\n",
              "DestAirportSeqID: int64\n",
              "DestCityMarketID: int64\n",
              "DestCityName: string\n",
              "DestState: string\n",
              "DestStateFips: int64\n",
              "DestStateName: string\n",
              "DestWac: int64\n",
              "DepDel15: double\n",
              "DepartureDelayGroups: double\n",
              "DepTimeBlk: string\n",
              "TaxiOut: double\n",
              "WheelsOff: double\n",
              "WheelsOn: double\n",
              "TaxiIn: double\n",
              "CRSArrTime: int64\n",
              "ArrDelay: double\n",
              "ArrDel15: double\n",
              "ArrivalDelayGroups: double\n",
              "ArrTimeBlk: string\n",
              "DistanceGroup: int64\n",
              "DivAirportLandings: double\n",
              "__index_level_0__: int64\n",
              "-- schema metadata --\n",
              "pandas: '{\"index_columns\": [\"__index_level_0__\"], \"column_indexes\": [{\"na' + 8000"
            ]
          },
          "metadata": {},
          "execution_count": 75
        }
      ]
    },
    {
      "cell_type": "markdown",
      "source": [
        "# Create an airline Actor\n",
        "# Create Tasks to\n",
        "1. Calculate the percentage of cancelled flights\n",
        "2. The average delay time\n",
        "3. The average distance flown\n",
        "4. The number of flights to a destination"
      ],
      "metadata": {
        "id": "kq--VOwBHgur"
      }
    },
    {
      "cell_type": "code",
      "source": [
        "# turn this class into an Actor\n",
        "@ray.remote\n",
        "class Airline:\n",
        "  def __init__(self, code, name):\n",
        "    self.code = code\n",
        "    self.name = name\n",
        "    self.i = 0\n",
        "\n",
        "  def get_code(self):\n",
        "    return self.code\n",
        "\n",
        "  def get_name(self):\n",
        "    return self.name\n",
        "\n",
        "  def incr(self, value):\n",
        "    self.i += value"
      ],
      "metadata": {
        "id": "KKaZRUZqHZ5f"
      },
      "execution_count": 48,
      "outputs": []
    },
    {
      "cell_type": "code",
      "source": [
        "# get the top 4 airlines from the key\n",
        "r = airlines.take(4)\n",
        "r"
      ],
      "metadata": {
        "colab": {
          "base_uri": "https://localhost:8080/"
        },
        "id": "wVsJf8hYIZss",
        "outputId": "006c389e-0ac3-4740-9cfb-e51d854aaf0a"
      },
      "execution_count": 82,
      "outputs": [
        {
          "output_type": "execute_result",
          "data": {
            "text/plain": [
              "[ArrowRow({'Code': '02Q', 'Description': 'Titan Airways'}),\n",
              " ArrowRow({'Code': '04Q', 'Description': 'Tradewind Aviation'}),\n",
              " ArrowRow({'Code': '05Q', 'Description': 'Comlux Aviation, AG'}),\n",
              " ArrowRow({'Code': '06Q', 'Description': 'Master Top Linhas Aereas Ltd.'})]"
            ]
          },
          "metadata": {},
          "execution_count": 82
        }
      ]
    },
    {
      "cell_type": "code",
      "source": [
        "# for each airline from the 4 we took, create the Airline actor\n",
        "air = []\n",
        "for a in r:\n",
        "  air.append(Airline.remote(a['Code'], a['Description']))\n",
        "air"
      ],
      "metadata": {
        "colab": {
          "base_uri": "https://localhost:8080/"
        },
        "id": "WISn8FwRIfY4",
        "outputId": "ad6d6447-8a5d-4d00-ab2b-8e84ee1b309e"
      },
      "execution_count": 51,
      "outputs": [
        {
          "output_type": "execute_result",
          "data": {
            "text/plain": [
              "[Actor(Airline, 3b81f491cafd376fa695768c01000000),\n",
              " Actor(Airline, 4e91ad408fbfc2adb7141f8e01000000),\n",
              " Actor(Airline, 557c33fda7c8349c103ca26e01000000),\n",
              " Actor(Airline, fa4e3ce99dfef5288b6b9cc601000000)]"
            ]
          },
          "metadata": {},
          "execution_count": 51
        },
        {
          "output_type": "stream",
          "name": "stderr",
          "text": [
            "2022-12-07 07:05:46,395\tWARNING worker.py:1839 -- WARNING: 16 PYTHON worker processes have been started on node: 815a248a2ff2a47f71c6d8e30bd32e4641b1f38cc5c46521f95d1adf with address: 172.28.0.12. This could be a result of using a large number of actors, or due to tasks blocked in ray.get() calls (see https://github.com/ray-project/ray/issues/3644 for some discussion of workarounds).\n"
          ]
        }
      ]
    },
    {
      "cell_type": "code",
      "source": [
        "# for each Airline actor, return the name asynchronosly\n",
        "for b in air:\n",
        "  airline_name = b.get_name.remote()\n",
        "  print(ray.get(airline_name))"
      ],
      "metadata": {
        "id": "BzqqFdsDKyp2"
      },
      "execution_count": null,
      "outputs": []
    },
    {
      "cell_type": "code",
      "source": [
        "# create a task that will count the number of flight records by airline asynchronosly\n",
        "@ray.remote\n",
        "def datacount():\n",
        "  return flights.groupby('Airline').count()"
      ],
      "metadata": {
        "id": "HbVHu2MsZrq5"
      },
      "execution_count": 79,
      "outputs": []
    },
    {
      "cell_type": "code",
      "source": [
        "# create an object reference of the asynchronos job\n",
        "obj_ref = datacount.remote()"
      ],
      "metadata": {
        "colab": {
          "base_uri": "https://localhost:8080/"
        },
        "id": "EymYF5s1gNbX",
        "outputId": "862380a2-99ac-4155-b5be-7893f48288b3"
      },
      "execution_count": 80,
      "outputs": [
        {
          "output_type": "stream",
          "name": "stderr",
          "text": [
            "\u001b[2m\u001b[36m(datacount pid=13426)\u001b[0m \r  0%|          | 0/2 [00:00<?, ?it/s]\rSort Sample:   0%|          | 0/2 [00:00<?, ?it/s]\n"
          ]
        }
      ]
    },
    {
      "cell_type": "code",
      "source": [
        "# execute the object reference, sort the count output by descending, then take the top 10\n",
        "top = ray.get(obj_ref).sort('count()', descending=True).take(10)"
      ],
      "metadata": {
        "colab": {
          "base_uri": "https://localhost:8080/"
        },
        "id": "lH6U5gghigMC",
        "outputId": "c7d12f89-2b1e-4dd6-c41b-5c4e4a6a5508"
      },
      "execution_count": 85,
      "outputs": [
        {
          "output_type": "stream",
          "name": "stderr",
          "text": [
            "Sort Sample: 100%|██████████| 2/2 [00:00<00:00, 22.27it/s]\n",
            "Shuffle Map: 100%|██████████| 2/2 [00:00<00:00,  9.87it/s]\n",
            "Shuffle Reduce: 100%|██████████| 2/2 [00:00<00:00, 12.13it/s]\n"
          ]
        }
      ]
    },
    {
      "cell_type": "code",
      "source": [
        "# get the top 10 airline and flight count\n",
        "x = []\n",
        "y = []\n",
        "for airline in top:\n",
        "  x.append(airline['Airline'])\n",
        "  y.append(airline['count()'] / 1000)"
      ],
      "metadata": {
        "id": "0KeijtrGpmI4"
      },
      "execution_count": 91,
      "outputs": []
    },
    {
      "cell_type": "code",
      "source": [
        "# plot the top 10 flight counts by airline\n",
        "fig, ax = plt.subplots(figsize=(8,4))\n",
        "\n",
        "ax.bar(x, y)\n",
        "\n",
        "ax.set_ylabel('Flights (000s)')\n",
        "ax.set_title('Airline Flights 2018')\n",
        "plt.setp( ax.xaxis.get_majorticklabels(), rotation=45, ha=\"right\", rotation_mode=\"anchor\")\n",
        "plt.show()"
      ],
      "metadata": {
        "colab": {
          "base_uri": "https://localhost:8080/",
          "height": 359
        },
        "id": "k4UBQzifqZqQ",
        "outputId": "2128a0c9-fb00-4546-b05e-822c43ed6f55"
      },
      "execution_count": 102,
      "outputs": [
        {
          "output_type": "display_data",
          "data": {
            "text/plain": [
              "<Figure size 576x288 with 1 Axes>"
            ],
            "image/png": "[encoded data removed]"
          },
          "metadata": {
            "needs_background": "light"
          }
        }
      ]
    },
    {
      "cell_type": "code",
      "source": [],
      "metadata": {
        "id": "catqdxPlq_pw"
      },
      "execution_count": null,
      "outputs": []
    }
  ]
}